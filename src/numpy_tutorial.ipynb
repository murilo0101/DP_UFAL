{
  "nbformat": 4,
  "nbformat_minor": 0,
  "metadata": {
    "colab": {
      "name": "numpy_tutorial.ipynb",
      "provenance": [],
      "collapsed_sections": []
    },
    "kernelspec": {
      "name": "python3",
      "display_name": "Python 3"
    },
    "language_info": {
      "name": "python"
    }
  },
  "cells": [
    {
      "cell_type": "code",
      "execution_count": 1,
      "metadata": {
        "id": "68KzMsXyp9Bt"
      },
      "outputs": [],
      "source": [
        "import numpy as np\n",
        "import pandas as pd\n",
        "import matplotlib.pyplot as plt"
      ]
    },
    {
      "cell_type": "markdown",
      "source": [
        "# Numpy Array\n"
      ],
      "metadata": {
        "id": "rPV_CH4iEygV"
      }
    },
    {
      "cell_type": "code",
      "source": [
        "# How to create an empty and a full NumPy array? (Como criar uma matriz vazia e completa?)\n",
        "\n",
        "array_empty = np.empty((6, 4), dtype=int) \n",
        "print(\"Empty Array\") \n",
        "print(array_empty)\n",
        "\n",
        "print(\"\\n\")\n",
        "\n",
        "array_full = np.full((3, 3), 35, dtype=int)\n",
        "print(\"Full Array\") \n",
        "print(array_full)\n",
        "\n",
        "print(\"\\n\")"
      ],
      "metadata": {
        "colab": {
          "base_uri": "https://localhost:8080/"
        },
        "id": "zgK6UK9OE-ng",
        "outputId": "ee8bd93f-ced6-4844-a2bd-72c00230b815"
      },
      "execution_count": 2,
      "outputs": [
        {
          "output_type": "stream",
          "name": "stdout",
          "text": [
            "Empty Array\n",
            "[[45170560        0        0        0]\n",
            " [       0        0        0        0]\n",
            " [       0        0        0        0]\n",
            " [       0        0        0        0]\n",
            " [       0        0        0        0]\n",
            " [       0        0        0        0]]\n",
            "\n",
            "\n",
            "Full Array\n",
            "[[35 35 35]\n",
            " [35 35 35]\n",
            " [35 35 35]]\n",
            "\n",
            "\n"
          ]
        }
      ]
    },
    {
      "cell_type": "code",
      "source": [
        "# Create a Numpy array filled with all zeros. (Crie uma matriz Numpy preenchida com zeros)\n",
        "\n",
        "array_zero = np.zeros((5,5))\n",
        "print(\"Array with all zeros\") \n",
        "print(array_zero)\n",
        "\n",
        "print(\"\\n\")"
      ],
      "metadata": {
        "colab": {
          "base_uri": "https://localhost:8080/"
        },
        "id": "8-VbeCf_ZNMP",
        "outputId": "2d7c6b46-4fdd-4282-9d3e-010dda9f640d"
      },
      "execution_count": 3,
      "outputs": [
        {
          "output_type": "stream",
          "name": "stdout",
          "text": [
            "Array with all zeros\n",
            "[[0. 0. 0. 0. 0.]\n",
            " [0. 0. 0. 0. 0.]\n",
            " [0. 0. 0. 0. 0.]\n",
            " [0. 0. 0. 0. 0.]\n",
            " [0. 0. 0. 0. 0.]]\n",
            "\n",
            "\n"
          ]
        }
      ]
    },
    {
      "cell_type": "code",
      "source": [
        "# Create a Numpy array filled with all ones (Crie uma matriz Numpy preenchida com uns)\n",
        "\n",
        "array_one = np.ones((5,5))\n",
        "print(\"Array with all ones\") \n",
        "print(array_one)\n",
        "\n",
        "print(\"\\n\")"
      ],
      "metadata": {
        "colab": {
          "base_uri": "https://localhost:8080/"
        },
        "id": "_wuYiJ6OZrEY",
        "outputId": "da359a3f-00a3-479e-ee47-f5225996e37c"
      },
      "execution_count": 4,
      "outputs": [
        {
          "output_type": "stream",
          "name": "stdout",
          "text": [
            "Array with all ones\n",
            "[[1. 1. 1. 1. 1.]\n",
            " [1. 1. 1. 1. 1.]\n",
            " [1. 1. 1. 1. 1.]\n",
            " [1. 1. 1. 1. 1.]\n",
            " [1. 1. 1. 1. 1.]]\n",
            "\n",
            "\n"
          ]
        }
      ]
    },
    {
      "cell_type": "code",
      "source": [
        "# Check whether a Numpy array contains a specified row (Verifique se uma matriz Numpy contém uma linha especificada)\n",
        "\n",
        "array_check = np.array([[1, 2, 3], [4, 5, 6], [7, 8, 9]])\n",
        "\n",
        "print([1, 3, 2] in array_check.tolist())\n",
        "print([4, 5, 6] in array_check.tolist())\n",
        "print([9, 10, 11] in array_check.tolist())\n",
        "print([7, 8, 9] in array_check.tolist())"
      ],
      "metadata": {
        "colab": {
          "base_uri": "https://localhost:8080/"
        },
        "id": "hc81utpoboDV",
        "outputId": "f8e09744-1ceb-4493-ff76-cf894250876f"
      },
      "execution_count": 5,
      "outputs": [
        {
          "output_type": "stream",
          "name": "stdout",
          "text": [
            "False\n",
            "True\n",
            "False\n",
            "True\n"
          ]
        }
      ]
    },
    {
      "cell_type": "code",
      "source": [
        "# How to Remove rows in Numpy array that contains non-numeric values? (Como remover linhas na matriz Numpy que contém valores não numéricos?)\n",
        "\n",
        "array_nomNumeric = np.array([[6, np.nan, 7], \n",
        "                             [np.nan, 2, 3], \n",
        "                             [3, 4, 5], \n",
        "                             [8, 9, 10]])\n",
        "\n",
        "print(\"Array without non-numeric values\") \n",
        "array_nomNumeric[~np.isnan(array_nomNumeric).any(axis=1)]"
      ],
      "metadata": {
        "id": "IqYZYqJLc2IU",
        "colab": {
          "base_uri": "https://localhost:8080/"
        },
        "outputId": "e0c754b3-a3d6-46bb-af27-ce2a3d315073"
      },
      "execution_count": 6,
      "outputs": [
        {
          "output_type": "stream",
          "name": "stdout",
          "text": [
            "Array without non-numeric values\n"
          ]
        },
        {
          "output_type": "execute_result",
          "data": {
            "text/plain": [
              "array([[ 3.,  4.,  5.],\n",
              "       [ 8.,  9., 10.]])"
            ]
          },
          "metadata": {},
          "execution_count": 6
        }
      ]
    },
    {
      "cell_type": "code",
      "source": [
        "# Remove single-dimensional entries from the shape of an array. (Remova entradas unidimensionais da forma de um array)\n",
        "\n",
        "array_uni = np.zeros((2, 1, 5))\n",
        "\n",
        "array_result = np.squeeze(array_uni)\n",
        "array_result.shape"
      ],
      "metadata": {
        "colab": {
          "base_uri": "https://localhost:8080/"
        },
        "id": "UNDNhdAVT4bx",
        "outputId": "0402a275-67a4-4805-866b-c24bd75cdbe9"
      },
      "execution_count": 7,
      "outputs": [
        {
          "output_type": "execute_result",
          "data": {
            "text/plain": [
              "(2, 5)"
            ]
          },
          "metadata": {},
          "execution_count": 7
        }
      ]
    },
    {
      "cell_type": "code",
      "source": [
        "# Find the number of occurrences of a sequence in a NumPy array. (Encontre o número de ocorrências de uma sequência em um array NumPy.)\n",
        "\n",
        "array_check = np.array([[1, 2, 3, 4],\n",
        "                        [4, 5, 6, 7],\n",
        "                        [1, 2, 8, 9]])\n",
        "\n",
        "repr(array_check).count(\"1, 2\")"
      ],
      "metadata": {
        "colab": {
          "base_uri": "https://localhost:8080/"
        },
        "id": "1u4UiHW9gQWx",
        "outputId": "5dd713c7-51c3-486a-944e-2973f881f7a4"
      },
      "execution_count": 8,
      "outputs": [
        {
          "output_type": "execute_result",
          "data": {
            "text/plain": [
              "2"
            ]
          },
          "metadata": {},
          "execution_count": 8
        }
      ]
    },
    {
      "cell_type": "code",
      "source": [
        "# Find the most frequent value in a NumPy array (Encontra o valor mais frequente em um array NumPy)\n",
        "\n",
        "array_check = np.array([1, 2, 3, 4, 1, 2, 3, 4, 1])\n",
        "\n",
        "np.bincount(array_check).argmax()"
      ],
      "metadata": {
        "colab": {
          "base_uri": "https://localhost:8080/"
        },
        "id": "MqFhNWqFje29",
        "outputId": "9fb57a47-18d7-4b32-a2cf-2d16c51919c1"
      },
      "execution_count": 9,
      "outputs": [
        {
          "output_type": "execute_result",
          "data": {
            "text/plain": [
              "1"
            ]
          },
          "metadata": {},
          "execution_count": 9
        }
      ]
    },
    {
      "cell_type": "code",
      "source": [
        "# Combining a one and a two-dimensional NumPy Array (Combinando um array NumPy unidimensional e bidimensional)\n",
        "\n",
        "array_uni = np.array([1, 2, 3, 4])\n",
        "array_bi = np.array([[8, 9, 1, 2], [4, 5, 6, 7]])\n",
        "\n",
        "for i, j in np.nditer([array_uni, array_bi]):\n",
        "    print(\"%d - %d\" % (i, j),)"
      ],
      "metadata": {
        "colab": {
          "base_uri": "https://localhost:8080/"
        },
        "id": "XpEmR2salbJ5",
        "outputId": "691dc3db-bf59-4779-eb75-a79b29054a59"
      },
      "execution_count": 10,
      "outputs": [
        {
          "output_type": "stream",
          "name": "stdout",
          "text": [
            "1 - 8\n",
            "2 - 9\n",
            "3 - 1\n",
            "4 - 2\n",
            "1 - 4\n",
            "2 - 5\n",
            "3 - 6\n",
            "4 - 7\n"
          ]
        }
      ]
    },
    {
      "cell_type": "code",
      "source": [
        "# How to build an array of all combinations of two NumPy arrays? (Como construir uma matriz de todas as combinações de duas matrizes NumPy?)\n",
        "\n",
        "array_a = np.array([1, 2])\n",
        "array_b = np.array([[8, 9], [4, 5]])\n",
        "\n",
        "np.array(np.meshgrid(array_a, array_b)).T.reshape(-1, 2)"
      ],
      "metadata": {
        "colab": {
          "base_uri": "https://localhost:8080/"
        },
        "id": "j9Mf74_YmIEo",
        "outputId": "1be4c1b7-b2f6-4a9e-dcc0-5dbb50a90ce0"
      },
      "execution_count": 11,
      "outputs": [
        {
          "output_type": "execute_result",
          "data": {
            "text/plain": [
              "array([[1, 8],\n",
              "       [1, 9],\n",
              "       [1, 4],\n",
              "       [1, 5],\n",
              "       [2, 8],\n",
              "       [2, 9],\n",
              "       [2, 4],\n",
              "       [2, 5]])"
            ]
          },
          "metadata": {},
          "execution_count": 11
        }
      ]
    },
    {
      "cell_type": "code",
      "source": [
        "# How to add a border around a NumPy array? (Como adicionar uma borda ao redor de um array NumPy?)\n",
        "\n",
        "arr = np.full((6,3), 1)\n",
        "\n",
        "np.pad(arr, pad_width=1, mode='constant', constant_values=0)"
      ],
      "metadata": {
        "colab": {
          "base_uri": "https://localhost:8080/"
        },
        "id": "tx1jWPp_JyKr",
        "outputId": "2a5f7dc6-e70f-450b-cdf8-4ee83a326f50"
      },
      "execution_count": 12,
      "outputs": [
        {
          "output_type": "execute_result",
          "data": {
            "text/plain": [
              "array([[0, 0, 0, 0, 0],\n",
              "       [0, 1, 1, 1, 0],\n",
              "       [0, 1, 1, 1, 0],\n",
              "       [0, 1, 1, 1, 0],\n",
              "       [0, 1, 1, 1, 0],\n",
              "       [0, 1, 1, 1, 0],\n",
              "       [0, 1, 1, 1, 0],\n",
              "       [0, 0, 0, 0, 0]])"
            ]
          },
          "metadata": {},
          "execution_count": 12
        }
      ]
    },
    {
      "cell_type": "code",
      "source": [
        "#  How to compare two NumPy arrays? (Como comparar dois arrays NumPy?)\n",
        "\n",
        "array_a = np.array([1, 2, 3])\n",
        "array_b = np.array([1, 2, 3])\n",
        "\n",
        "result = (array_a == array_b)\n",
        "print(result.all(), \"\\n\")\n",
        "\n",
        "array_c = np.array([7, 5, 9])\n",
        "array_d = np.array([1, 3, 9])\n",
        "\n",
        "maior_que = np.greater(array_c, array_d)\n",
        "print(maior_que)\n",
        "\n",
        "menor_que = np.less(array_c, array_d)\n",
        "print(menor_que)\n",
        "\n",
        "maior_igual = np.greater_equal(array_c, array_d)\n",
        "print(maior_igual)\n",
        "\n",
        "menor_igual = np.less_equal(array_c, array_d)\n",
        "print(menor_igual)"
      ],
      "metadata": {
        "colab": {
          "base_uri": "https://localhost:8080/"
        },
        "id": "ZuDxAQO9LYTA",
        "outputId": "12e6e774-9f71-4048-9e0a-7c440d67d39e"
      },
      "execution_count": 16,
      "outputs": [
        {
          "output_type": "stream",
          "name": "stdout",
          "text": [
            "True \n",
            "\n",
            "[ True  True False]\n",
            "[False False False]\n",
            "[ True  True  True]\n",
            "[False False  True]\n"
          ]
        }
      ]
    },
    {
      "cell_type": "code",
      "source": [
        "# How to check whether specified values are present in NumPy array? (Como verificar se os valores especificados estão presentes no array NumPy?)\n",
        "\n",
        "array_check = np.array([[1, 2, 3], [4, 5, 6]])\n",
        "\n",
        "print(3 in array_check)\n",
        "print(6 in array_check)\n",
        "print(9 in array_check)"
      ],
      "metadata": {
        "colab": {
          "base_uri": "https://localhost:8080/"
        },
        "id": "bn2Gubn0aWzX",
        "outputId": "bdddbbea-0a77-43cb-c752-2ebca9eac71f"
      },
      "execution_count": 17,
      "outputs": [
        {
          "output_type": "stream",
          "name": "stdout",
          "text": [
            "True\n",
            "True\n",
            "False\n"
          ]
        }
      ]
    },
    {
      "cell_type": "code",
      "source": [
        "# How to get all 2D diagonals of a 3D NumPy array? (Como obter todas as diagonais 2D de um array 3D NumPy?)\n",
        "\n",
        "array_check = np.arange(3 * 3 * 4).reshape(3, 3, 4)\n",
        "print(array_check, \"\\n\")\n",
        "\n",
        "print(\"Array diagonais:\")\n",
        "print(np.diagonal(array_check, axis1=1, axis2=2))"
      ],
      "metadata": {
        "colab": {
          "base_uri": "https://localhost:8080/"
        },
        "id": "Nrm0K6YNa9RZ",
        "outputId": "f6c451e6-0944-44bb-a196-f7dc6a6987d5"
      },
      "execution_count": 19,
      "outputs": [
        {
          "output_type": "stream",
          "name": "stdout",
          "text": [
            "[[[ 0  1  2  3]\n",
            "  [ 4  5  6  7]\n",
            "  [ 8  9 10 11]]\n",
            "\n",
            " [[12 13 14 15]\n",
            "  [16 17 18 19]\n",
            "  [20 21 22 23]]\n",
            "\n",
            " [[24 25 26 27]\n",
            "  [28 29 30 31]\n",
            "  [32 33 34 35]]] \n",
            "\n",
            "Array diagonais\n",
            "[[ 0  5 10]\n",
            " [12 17 22]\n",
            " [24 29 34]]\n"
          ]
        }
      ]
    },
    {
      "cell_type": "code",
      "source": [
        "# Flatten a Matrix in Python using NumPy (Achatar uma matriz em Python usando NumPy)\n",
        "\n",
        "matrix = np.array([[5, 6],[4, 3]])\n",
        "print(\"Matriz original:\")\n",
        "print(matrix)\n",
        "print(\"\\n\")\n",
        "\n",
        "print(\"Matriz achatada:\")\n",
        "matrix.flatten()"
      ],
      "metadata": {
        "colab": {
          "base_uri": "https://localhost:8080/"
        },
        "id": "H0fmA6YUbg6n",
        "outputId": "2d46df72-3d3b-4587-eb01-d4a2d449b21b"
      },
      "execution_count": 22,
      "outputs": [
        {
          "output_type": "stream",
          "name": "stdout",
          "text": [
            "Matriz original:\n",
            "[[5 6]\n",
            " [4 3]]\n",
            "\n",
            "\n",
            "Matriz achatada:\n"
          ]
        },
        {
          "output_type": "execute_result",
          "data": {
            "text/plain": [
              "array([5, 6, 4, 3])"
            ]
          },
          "metadata": {},
          "execution_count": 22
        }
      ]
    },
    {
      "cell_type": "code",
      "source": [
        "# Flatten a 2d numpy array into 1d array (Achatar uma matriz 2D em matriz 1D)\n",
        "\n",
        "array_original = np.array([[1, 2, 3],\n",
        "                          [4, 5, 6],\n",
        "                          [7, 8, 9]])\n",
        "\n",
        "print(\"Matriz original:\")\n",
        "print(array_original)\n",
        "print(\"\\n\")\n",
        "\n",
        "print(\"Matriz achatada:\")\n",
        "array_original.ravel()"
      ],
      "metadata": {
        "colab": {
          "base_uri": "https://localhost:8080/"
        },
        "id": "6cKJdOveb1tE",
        "outputId": "a220c2b3-95d0-4ce4-a272-30381ea62837"
      },
      "execution_count": 23,
      "outputs": [
        {
          "output_type": "stream",
          "name": "stdout",
          "text": [
            "Matriz original:\n",
            "[[1 2 3]\n",
            " [4 5 6]\n",
            " [7 8 9]]\n",
            "\n",
            "\n",
            "Matriz achatada:\n"
          ]
        },
        {
          "output_type": "execute_result",
          "data": {
            "text/plain": [
              "array([1, 2, 3, 4, 5, 6, 7, 8, 9])"
            ]
          },
          "metadata": {},
          "execution_count": 23
        }
      ]
    },
    {
      "cell_type": "code",
      "source": [
        "# Move axes of an array to new positions (Move os eixos de um array para novas posições)\n",
        "\n",
        "array_original = np.zeros((2, 3, 5))\n",
        "print(\"Array original:\")\n",
        "print(array_original)\n",
        "print(\"\\n\")\n",
        "\n",
        "array_modificado = np.moveaxis(array_original, 0, 1)\n",
        "print(\"Array modificado:\")\n",
        "print(array_modificado)\n",
        "print(\"\\n\")\n",
        "print(array_modificado.shape)"
      ],
      "metadata": {
        "colab": {
          "base_uri": "https://localhost:8080/"
        },
        "id": "Vpwb_5fFdyig",
        "outputId": "23dcf085-4a29-4586-e6cd-0190e4a144ce"
      },
      "execution_count": 40,
      "outputs": [
        {
          "output_type": "stream",
          "name": "stdout",
          "text": [
            "Array original:\n",
            "[[[0. 0. 0. 0. 0.]\n",
            "  [0. 0. 0. 0. 0.]\n",
            "  [0. 0. 0. 0. 0.]]\n",
            "\n",
            " [[0. 0. 0. 0. 0.]\n",
            "  [0. 0. 0. 0. 0.]\n",
            "  [0. 0. 0. 0. 0.]]]\n",
            "\n",
            "\n",
            "Array modificado:\n",
            "[[[0. 0. 0. 0. 0.]\n",
            "  [0. 0. 0. 0. 0.]]\n",
            "\n",
            " [[0. 0. 0. 0. 0.]\n",
            "  [0. 0. 0. 0. 0.]]\n",
            "\n",
            " [[0. 0. 0. 0. 0.]\n",
            "  [0. 0. 0. 0. 0.]]]\n",
            "\n",
            "\n",
            "(3, 2, 5)\n"
          ]
        }
      ]
    },
    {
      "cell_type": "code",
      "source": [
        "# Interchange two axes of an array (Troca dois eixos de um array)\n",
        "\n",
        "array_check = np.array([[1, 2, 3]])\n",
        "\n",
        "np.swapaxes(array_check, 0, 1)"
      ],
      "metadata": {
        "colab": {
          "base_uri": "https://localhost:8080/"
        },
        "id": "OP14qvmcm81E",
        "outputId": "3b08eff9-8987-48b4-e6b6-b701c3074563"
      },
      "execution_count": 42,
      "outputs": [
        {
          "output_type": "execute_result",
          "data": {
            "text/plain": [
              "array([[1],\n",
              "       [2],\n",
              "       [3]])"
            ]
          },
          "metadata": {},
          "execution_count": 42
        }
      ]
    },
    {
      "cell_type": "code",
      "source": [
        "# NumPy – Fibonacci Series using Binet Formula (NumPy – Série de Fibonacci usando a Fórmula Binet)\n",
        "\n",
        "array_original = np.arange(1, 11)\n",
        "print(array_original)\n",
        "\n",
        "lenght = len(array_original)\n",
        "\n",
        "sqrtFive = np.sqrt(5)\n",
        "alpha = (1 + sqrtFive) / 2\n",
        "beta = (1 - sqrtFive) / 2\n",
        "\n",
        "result = np.rint(((alpha ** array_original) - (beta ** array_original)) / (sqrtFive))\n",
        "print(\"Primeiros {} numeros: {}\".format(lenght, result))"
      ],
      "metadata": {
        "colab": {
          "base_uri": "https://localhost:8080/"
        },
        "id": "UQgonwADpgBJ",
        "outputId": "a2a28866-4ce3-4eda-bb7e-726a2cf7095c"
      },
      "execution_count": 44,
      "outputs": [
        {
          "output_type": "stream",
          "name": "stdout",
          "text": [
            "[ 1  2  3  4  5  6  7  8  9 10]\n",
            "Primeiros 10 numeros: [ 1.  1.  2.  3.  5.  8. 13. 21. 34. 55.]\n"
          ]
        }
      ]
    },
    {
      "cell_type": "code",
      "source": [
        "# Counts the number of non-zero values in the array (Conta o número de valores diferentes de zero no array)\n",
        "\n",
        "array_original = np.array([[1, 2, 0, 0], [5, 0, 7, 8]])\n",
        "\n",
        "np.count_nonzero(array_original)"
      ],
      "metadata": {
        "colab": {
          "base_uri": "https://localhost:8080/"
        },
        "id": "zL0xzDu-rMIe",
        "outputId": "3e44f538-50c0-4312-ebf3-0e3008ccfed7"
      },
      "execution_count": 47,
      "outputs": [
        {
          "output_type": "execute_result",
          "data": {
            "text/plain": [
              "5"
            ]
          },
          "metadata": {},
          "execution_count": 47
        }
      ]
    },
    {
      "cell_type": "code",
      "source": [
        "# Count the number of elements along a given axis (Contar o número de elementos ao longo de um determinado eixo)\n",
        "\n",
        "array_original = np.array([[1, 2, 3, 4], \n",
        "                           [5, 6, 7, 8], \n",
        "                           [9, 10, 11, 12],\n",
        "                           [13, 14, 15, 16]])\n",
        "\n",
        "print(np.size(array_original))\n",
        "\n",
        "print(np.size(array_original, 0))\n",
        "\n",
        "print(np.size(array_original, 1))"
      ],
      "metadata": {
        "colab": {
          "base_uri": "https://localhost:8080/"
        },
        "id": "Tdz4mQlIuL4Q",
        "outputId": "bdf99a88-8134-492f-c8a5-e8e832c8a5d4"
      },
      "execution_count": 51,
      "outputs": [
        {
          "output_type": "stream",
          "name": "stdout",
          "text": [
            "16\n",
            "4\n",
            "4\n"
          ]
        }
      ]
    },
    {
      "cell_type": "code",
      "source": [
        "# Trim the leading and/or trailing zeros from a 1-D array (Apara os zeros à esquerda e/ou à direita de uma matriz 1-D)\n",
        "\n",
        "array_check = np.array((0, 1, 2, 3, 0))\n",
        "\n",
        "np.trim_zeros(array_check)"
      ],
      "metadata": {
        "colab": {
          "base_uri": "https://localhost:8080/"
        },
        "id": "avgnvkY4vbzB",
        "outputId": "d178773e-5557-49b0-c464-26962aeab559"
      },
      "execution_count": 55,
      "outputs": [
        {
          "output_type": "execute_result",
          "data": {
            "text/plain": [
              "array([1, 2, 3])"
            ]
          },
          "metadata": {},
          "execution_count": 55
        }
      ]
    },
    {
      "cell_type": "code",
      "source": [
        "# Change data type of given numpy array (Muda o tipo de dado do array numpy dado)\n",
        "\n",
        "array_check = np.array([1, 2, 3, 4])\n",
        "\n",
        "array_check.astype('double')"
      ],
      "metadata": {
        "colab": {
          "base_uri": "https://localhost:8080/"
        },
        "id": "z9kE4-jmwCbz",
        "outputId": "a62efd13-000e-4eee-a5a7-f908620f7c5f"
      },
      "execution_count": 58,
      "outputs": [
        {
          "output_type": "execute_result",
          "data": {
            "text/plain": [
              "array([1., 2., 3., 4.])"
            ]
          },
          "metadata": {},
          "execution_count": 58
        }
      ]
    },
    {
      "cell_type": "code",
      "source": [
        "# Reverse a numpy array (Inverte um array numpy)\n",
        "\n",
        "array_original = np.array([1, 2, 3, 4])\n",
        "\n",
        "str(array_original[::-1])"
      ],
      "metadata": {
        "colab": {
          "base_uri": "https://localhost:8080/",
          "height": 35
        },
        "id": "0IBmTMxLwW34",
        "outputId": "dfaeebe1-f0b1-443f-e8c0-554e0f9d746d"
      },
      "execution_count": 59,
      "outputs": [
        {
          "output_type": "execute_result",
          "data": {
            "text/plain": [
              "'[4 3 2 1]'"
            ],
            "application/vnd.google.colaboratory.intrinsic+json": {
              "type": "string"
            }
          },
          "metadata": {},
          "execution_count": 59
        }
      ]
    },
    {
      "cell_type": "code",
      "source": [
        "# How to make a NumPy array read-only? (Como tornar um array NumPy somente leitura?)\n",
        "\n",
        "array_original = np.zeros(10)\n",
        "\n",
        "array_original[1] = 1\n",
        "print(array_original)\n",
        "\n",
        "array_original.setflags(write=False)"
      ],
      "metadata": {
        "colab": {
          "base_uri": "https://localhost:8080/"
        },
        "id": "hwYtmqiswiik",
        "outputId": "a2824ce1-7d66-4f57-f213-b14d1d11d53c"
      },
      "execution_count": 61,
      "outputs": [
        {
          "output_type": "stream",
          "name": "stdout",
          "text": [
            "[0. 1. 0. 0. 0. 0. 0. 0. 0. 0.]\n"
          ]
        }
      ]
    },
    {
      "cell_type": "markdown",
      "source": [
        "# Questions on NumPy Matrix"
      ],
      "metadata": {
        "id": "v0RKjhTYxJfy"
      }
    },
    {
      "cell_type": "code",
      "source": [
        "# Get the maximum value from given matrix\n",
        "\n",
        "mtrx = np.matrix(np.arange(15).reshape((3, 5)))\n",
        "print(mtrx, \"\\n\")\n",
        "print(mtrx.max())"
      ],
      "metadata": {
        "colab": {
          "base_uri": "https://localhost:8080/"
        },
        "id": "uGPB2H0nxi8L",
        "outputId": "64c73756-0450-4bd9-ba10-bf5c5e20fac4"
      },
      "execution_count": 62,
      "outputs": [
        {
          "output_type": "stream",
          "name": "stdout",
          "text": [
            "[[ 0  1  2  3  4]\n",
            " [ 5  6  7  8  9]\n",
            " [10 11 12 13 14]] \n",
            "\n",
            "14\n"
          ]
        }
      ]
    },
    {
      "cell_type": "code",
      "source": [
        "# Get the minimum value from given matrix\n",
        "\n",
        "mtrx = -np.matrix(np.arange(15).reshape((3, 5)))\n",
        "print(mtrx, \"\\n\")\n",
        "print(mtrx.min())"
      ],
      "metadata": {
        "colab": {
          "base_uri": "https://localhost:8080/"
        },
        "id": "qYfE6BKexqZZ",
        "outputId": "96e3ff5f-4f1f-4a7f-accc-e60a65518261"
      },
      "execution_count": 63,
      "outputs": [
        {
          "output_type": "stream",
          "name": "stdout",
          "text": [
            "[[  0  -1  -2  -3  -4]\n",
            " [ -5  -6  -7  -8  -9]\n",
            " [-10 -11 -12 -13 -14]] \n",
            "\n",
            "-14\n"
          ]
        }
      ]
    },
    {
      "cell_type": "code",
      "source": [
        "# Find the number of rows and columns of a given matrix using NumPy\n",
        "\n",
        "mtrx = np.matrix(np.arange(1,7).reshape((2, 3)))\n",
        "print(mtrx, \"\\n\")\n",
        "print(mtrx.shape)"
      ],
      "metadata": {
        "colab": {
          "base_uri": "https://localhost:8080/"
        },
        "id": "c12iC3YSxr1s",
        "outputId": "a3393dcc-9a19-4930-9d7e-923f2c5762bd"
      },
      "execution_count": 64,
      "outputs": [
        {
          "output_type": "stream",
          "name": "stdout",
          "text": [
            "[[1 2 3]\n",
            " [4 5 6]] \n",
            "\n",
            "(2, 3)\n"
          ]
        }
      ]
    },
    {
      "cell_type": "code",
      "source": [
        "# Select the elements from a given matrix\n",
        "\n",
        "mtrx = np.matrix('[5, 3, 7; 2, 4, 8; 1, 6, 9]')\n",
        "\n",
        "np.choose([1, 2, 1], mtrx)"
      ],
      "metadata": {
        "colab": {
          "base_uri": "https://localhost:8080/"
        },
        "id": "IvEGsiKOxtZ4",
        "outputId": "8c529e48-677f-4ed1-967e-d2d5c36b9349"
      },
      "execution_count": 65,
      "outputs": [
        {
          "output_type": "execute_result",
          "data": {
            "text/plain": [
              "array([[2, 6, 8]])"
            ]
          },
          "metadata": {},
          "execution_count": 65
        }
      ]
    },
    {
      "cell_type": "code",
      "source": [
        "# Find the sum of values in a matrix\n",
        "\n",
        "mtrx = np.matrix(np.arange(1,7).reshape((2, 3)))\n",
        "print(mtrx, \"\\n\")\n",
        "print(mtrx.sum())"
      ],
      "metadata": {
        "colab": {
          "base_uri": "https://localhost:8080/"
        },
        "id": "pj_hEBhmxv8o",
        "outputId": "ec3b5ac9-606a-411f-9faf-4f1d26983130"
      },
      "execution_count": 66,
      "outputs": [
        {
          "output_type": "stream",
          "name": "stdout",
          "text": [
            "[[1 2 3]\n",
            " [4 5 6]] \n",
            "\n",
            "21\n"
          ]
        }
      ]
    },
    {
      "cell_type": "code",
      "source": [
        "# Calculate the sum of the diagonal elements of a NumPy array\n",
        "\n",
        "arr = np.array([[5, 8, 6], [2, 1, 4], [7, 9, 3]])\n",
        "print(arr, \"\\n\")\n",
        "print(np.trace(arr))"
      ],
      "metadata": {
        "colab": {
          "base_uri": "https://localhost:8080/"
        },
        "id": "rge3T6Tlxwep",
        "outputId": "4cb42b26-e194-4a4e-ee22-5a12db7d7c0d"
      },
      "execution_count": 67,
      "outputs": [
        {
          "output_type": "stream",
          "name": "stdout",
          "text": [
            "[[5 8 6]\n",
            " [2 1 4]\n",
            " [7 9 3]] \n",
            "\n",
            "9\n"
          ]
        }
      ]
    },
    {
      "cell_type": "code",
      "source": [
        "# Adding and Subtracting Matrices in Python\n",
        "\n",
        "arr_1 = np.array([[4, 3], [7, 1], [8, 9]])\n",
        "arr_2 = np.array([[2, 0], [5, 5], [6, 6]])\n",
        "\n",
        "print(arr_1,\"\\n\")\n",
        "print(arr_2,\"\\n\")\n",
        "\n",
        "print(np.add(arr_1, arr_2), \"\\n\") #Adding\n",
        "print(np.subtract(arr_1, arr_2)) #Subtracting"
      ],
      "metadata": {
        "colab": {
          "base_uri": "https://localhost:8080/"
        },
        "id": "m2b4d5GJxyGY",
        "outputId": "5ec3d50e-ea97-4bd9-8b8c-08a50ad35db4"
      },
      "execution_count": 68,
      "outputs": [
        {
          "output_type": "stream",
          "name": "stdout",
          "text": [
            "[[4 3]\n",
            " [7 1]\n",
            " [8 9]] \n",
            "\n",
            "[[2 0]\n",
            " [5 5]\n",
            " [6 6]] \n",
            "\n",
            "[[ 6  3]\n",
            " [12  6]\n",
            " [14 15]] \n",
            "\n",
            "[[ 2  3]\n",
            " [ 2 -4]\n",
            " [ 2  3]]\n"
          ]
        }
      ]
    },
    {
      "cell_type": "code",
      "source": [
        "# Ways to add row/columns in numpy array\n",
        "\n",
        "init_arr = np.array([[4, 3], [7, 1], [8, 9]])\n",
        "print(init_arr,\"\\n\")\n",
        "\n",
        "\n",
        "column_to_be_added = np.array([[3], [4], [1]])\n",
        "\n",
        "# add column with append\n",
        "arr_1 = np.append(init_arr, column_to_be_added, axis=1)\n",
        "print(arr_1,\"\\n\")\n",
        "\n",
        "# column with concatenate\n",
        "arr_2 = np.concatenate([init_arr, column_to_be_added], axis=1)\n",
        "print(arr_2,\"\\n\")\n",
        "\n",
        "\n",
        "row_to_be_added = np.array([6, 2])\n",
        "row_n = init_arr.shape[0] # last row\n",
        "\n",
        "# row with insert\n",
        "arr_3 = np.insert(init_arr, row_n,[row_to_be_added], axis=0)\n",
        "print(arr_3,\"\\n\")\n",
        "\n",
        "# row with vstack\n",
        "arr_4 = np.vstack((init_arr, row_to_be_added))\n",
        "print(arr_4,\"\\n\")"
      ],
      "metadata": {
        "colab": {
          "base_uri": "https://localhost:8080/"
        },
        "id": "pVBT2mVNxzoE",
        "outputId": "2c663cc5-3cc0-49cf-fbb3-4baadf70a24f"
      },
      "execution_count": 69,
      "outputs": [
        {
          "output_type": "stream",
          "name": "stdout",
          "text": [
            "[[4 3]\n",
            " [7 1]\n",
            " [8 9]] \n",
            "\n",
            "[[4 3 3]\n",
            " [7 1 4]\n",
            " [8 9 1]] \n",
            "\n",
            "[[4 3 3]\n",
            " [7 1 4]\n",
            " [8 9 1]] \n",
            "\n",
            "[[4 3]\n",
            " [7 1]\n",
            " [8 9]\n",
            " [6 2]] \n",
            "\n",
            "[[4 3]\n",
            " [7 1]\n",
            " [8 9]\n",
            " [6 2]] \n",
            "\n"
          ]
        }
      ]
    },
    {
      "cell_type": "code",
      "source": [
        "# Matrix Multiplication in NumPy\n",
        "\n",
        "arr_1 = np.array([[4, 3], [7, 1]])\n",
        "arr_2 = np.array([[2, 0], [5, 5]])\n",
        "\n",
        "print(\"product:\\n\",np.matmul(arr_1, arr_2),\"\\n\")\n",
        "print(\"element-wise matrix multiplication:\\n\",np.multiply(arr_1, arr_2),\"\\n\")"
      ],
      "metadata": {
        "colab": {
          "base_uri": "https://localhost:8080/"
        },
        "id": "-xW9_e6Kx1dX",
        "outputId": "a535f02a-eee9-4cb0-9e7b-121953e580f4"
      },
      "execution_count": 70,
      "outputs": [
        {
          "output_type": "stream",
          "name": "stdout",
          "text": [
            "product:\n",
            " [[23 15]\n",
            " [19  5]] \n",
            "\n",
            "element-wise matrix multiplication:\n",
            " [[ 8  0]\n",
            " [35  5]] \n",
            "\n"
          ]
        }
      ]
    },
    {
      "cell_type": "code",
      "source": [
        "# Get the eigen values of a matrix\n",
        "\n",
        "mtrx = np.matrix([[4, 3], [6, 2]])\n",
        "\n",
        "w, v = np.linalg.eig(mtrx)\n",
        "\n",
        "print(\"Eigen values:\\n\",w,\"\\n\")\n",
        "print(\"Eigenvectors:\\n\",v,\"\\n\")"
      ],
      "metadata": {
        "colab": {
          "base_uri": "https://localhost:8080/"
        },
        "id": "MwEeySC4x3IN",
        "outputId": "4e03ce13-4819-4fd8-f471-f87f6e61395a"
      },
      "execution_count": 71,
      "outputs": [
        {
          "output_type": "stream",
          "name": "stdout",
          "text": [
            "Eigen values:\n",
            " [ 7.35889894 -1.35889894] \n",
            "\n",
            "Eigenvectors:\n",
            " [[ 0.66613722 -0.48848147]\n",
            " [ 0.7458292   0.87257427]] \n",
            "\n"
          ]
        }
      ]
    },
    {
      "cell_type": "code",
      "source": [
        "# How to Calculate the determinant of a matrix using NumPy?\n",
        "\n",
        "mtrx = np.matrix([[12, 9], [6, 8]])\n",
        "\n",
        "int(np.linalg.det(mtrx))"
      ],
      "metadata": {
        "colab": {
          "base_uri": "https://localhost:8080/"
        },
        "id": "7v8WY4XIx4wn",
        "outputId": "5b803a11-6f4d-4fc1-a225-ae19eefa325f"
      },
      "execution_count": 72,
      "outputs": [
        {
          "output_type": "execute_result",
          "data": {
            "text/plain": [
              "42"
            ]
          },
          "metadata": {},
          "execution_count": 72
        }
      ]
    },
    {
      "cell_type": "code",
      "source": [
        "# How to inverse a matrix using NumPy\n",
        "\n",
        "mtrx = np.array([[[4, 3], [6, 2]], [[2, 3], [6, 5]]])\n",
        "\n",
        "np.linalg.inv(mtrx)"
      ],
      "metadata": {
        "colab": {
          "base_uri": "https://localhost:8080/"
        },
        "id": "KGO2kWONx6RH",
        "outputId": "a327044f-e291-4b46-d089-e872b50a2c70"
      },
      "execution_count": 73,
      "outputs": [
        {
          "output_type": "execute_result",
          "data": {
            "text/plain": [
              "array([[[-0.2  ,  0.3  ],\n",
              "        [ 0.6  , -0.4  ]],\n",
              "\n",
              "       [[-0.625,  0.375],\n",
              "        [ 0.75 , -0.25 ]]])"
            ]
          },
          "metadata": {},
          "execution_count": 73
        }
      ]
    },
    {
      "cell_type": "code",
      "source": [
        "# How to count the frequency of unique values in NumPy array?\n",
        "\n",
        "arr = np.array([2, 2, 8, 9, 10, 10, 11, 12, 9, 3])\n",
        "\n",
        "unique, frequency = np.unique(arr, return_counts=True)\n",
        "\n",
        "print(\"Unique values: \", unique)\n",
        "print(\"Frequency values: \", frequency)"
      ],
      "metadata": {
        "colab": {
          "base_uri": "https://localhost:8080/"
        },
        "id": "tuEQqG-fx8Gw",
        "outputId": "1cc0e767-1250-435e-d6de-ff1dcb1c92c5"
      },
      "execution_count": 74,
      "outputs": [
        {
          "output_type": "stream",
          "name": "stdout",
          "text": [
            "Unique values:  [ 2  3  8  9 10 11 12]\n",
            "Frequency values:  [2 1 1 2 2 1 1]\n"
          ]
        }
      ]
    },
    {
      "cell_type": "code",
      "source": [
        "# Multiply matrices of complex numbers using NumPy in Python\n",
        "\n",
        "arr_1 = np.array([3+8j, 6+5j])\n",
        "print(arr_1,\"\\n\")\n",
        "arr_2 = np.array([4+9j, 2+1j])\n",
        "print(arr_2,\"\\n\")\n",
        "\n",
        "product = np.vdot(arr_1, arr_2)\n",
        "print(product,\"\\n\")"
      ],
      "metadata": {
        "colab": {
          "base_uri": "https://localhost:8080/"
        },
        "id": "HkmuSbC6x9-v",
        "outputId": "03feec4a-cd27-4745-ff95-99c1952bbb12"
      },
      "execution_count": 75,
      "outputs": [
        {
          "output_type": "stream",
          "name": "stdout",
          "text": [
            "[3.+8.j 6.+5.j] \n",
            "\n",
            "[4.+9.j 2.+1.j] \n",
            "\n",
            "(101-9j) \n",
            "\n"
          ]
        }
      ]
    },
    {
      "cell_type": "code",
      "source": [
        "# Compute the outer product of two given vectors using NumPy in Python\n",
        "\n",
        "arr_1 = np.array([4, 3])\n",
        "print(arr_1,\"\\n\")\n",
        "arr_2 = np.array([7, 1])\n",
        "print(arr_2,\"\\n\")\n",
        "\n",
        "product = np.outer(arr_1, arr_2)\n",
        "print(product,\"\\n\")"
      ],
      "metadata": {
        "colab": {
          "base_uri": "https://localhost:8080/"
        },
        "id": "JJ8hjpSWx_SR",
        "outputId": "f092efd2-7e04-40b0-9dcf-6e5c00143113"
      },
      "execution_count": 76,
      "outputs": [
        {
          "output_type": "stream",
          "name": "stdout",
          "text": [
            "[4 3] \n",
            "\n",
            "[7 1] \n",
            "\n",
            "[[28  4]\n",
            " [21  3]] \n",
            "\n"
          ]
        }
      ]
    },
    {
      "cell_type": "code",
      "source": [
        "# Calculate inner, outer, and cross products of matrices and vectors using NumPy\n",
        "\n",
        "arr_1 = np.array([4, 3])\n",
        "print(arr_1,\"\\n\")\n",
        "arr_2 = np.array([7, 1])\n",
        "print(arr_2,\"\\n\")\n",
        "\n",
        "print(\"Inner product of vectors: \")\n",
        "print(np.inner(arr_1, arr_2), \"\\n\")\n",
        "\n",
        "print(\"Outer product of vectors: \")\n",
        "print(np.outer(arr_1, arr_2), \"\\n\")\n",
        "\n",
        "print(\"Cross product of vectors: \")\n",
        "print(np.cross(arr_1, arr_2), \"\\n\")\n",
        "\n",
        "mtrx_1 = np.array([[3, 4, 1], [7, 9, 5]])\n",
        "print(mtrx_1,\"\\n\")\n",
        "mtrx_2 = np.array([[1, 2, 5], [3, 8, 6]])\n",
        "print(mtrx_2,\"\\n\")\n",
        "\n",
        "print(\"Inner product of matrices: \")\n",
        "print(np.inner(mtrx_1, mtrx_2), \"\\n\")\n",
        "\n",
        "print(\"Outer product of matrices: \")\n",
        "print(np.outer(mtrx_1, mtrx_2), \"\\n\")\n",
        "\n",
        "print(\"Cross product of matrices: \")\n",
        "print(np.cross(mtrx_1, mtrx_2), \"\\n\")"
      ],
      "metadata": {
        "colab": {
          "base_uri": "https://localhost:8080/"
        },
        "id": "SP-8ezSvyCFc",
        "outputId": "f3e1539c-40b0-419b-dc87-848932ae8f51"
      },
      "execution_count": 77,
      "outputs": [
        {
          "output_type": "stream",
          "name": "stdout",
          "text": [
            "[4 3] \n",
            "\n",
            "[7 1] \n",
            "\n",
            "Inner product of vectors: \n",
            "31 \n",
            "\n",
            "Outer product of vectors: \n",
            "[[28  4]\n",
            " [21  3]] \n",
            "\n",
            "Cross product of vectors: \n",
            "-17 \n",
            "\n",
            "[[3 4 1]\n",
            " [7 9 5]] \n",
            "\n",
            "[[1 2 5]\n",
            " [3 8 6]] \n",
            "\n",
            "Inner product of matrices: \n",
            "[[ 16  47]\n",
            " [ 50 123]] \n",
            "\n",
            "Outer product of matrices: \n",
            "[[ 3  6 15  9 24 18]\n",
            " [ 4  8 20 12 32 24]\n",
            " [ 1  2  5  3  8  6]\n",
            " [ 7 14 35 21 56 42]\n",
            " [ 9 18 45 27 72 54]\n",
            " [ 5 10 25 15 40 30]] \n",
            "\n",
            "Cross product of matrices: \n",
            "[[ 18 -14   2]\n",
            " [ 14 -27  29]] \n",
            "\n"
          ]
        }
      ]
    },
    {
      "cell_type": "code",
      "source": [
        "# Compute the covariance matrix of two given NumPy arrays\n",
        "\n",
        "arr_1 = np.array([0, 2, 1])\n",
        "print(arr_1,\"\\n\")\n",
        "arr_2 = np.array([0, 1, 2])\n",
        "print(arr_2,\"\\n\")\n",
        "\n",
        "print(np.cov(arr_1, arr_2))"
      ],
      "metadata": {
        "colab": {
          "base_uri": "https://localhost:8080/"
        },
        "id": "KXlUqkMoyEPq",
        "outputId": "9d59f3fe-65e7-424f-c5df-e42c3211f012"
      },
      "execution_count": 78,
      "outputs": [
        {
          "output_type": "stream",
          "name": "stdout",
          "text": [
            "[0 2 1] \n",
            "\n",
            "[0 1 2] \n",
            "\n",
            "[[1.  0.5]\n",
            " [0.5 1. ]]\n"
          ]
        }
      ]
    },
    {
      "cell_type": "code",
      "source": [
        "# Convert covariance matrix to correlation matrix using Python\n",
        "\n",
        "arr_1 = np.array([0, 2, 1])\n",
        "print(arr_1,\"\\n\")\n",
        "arr_2 = np.array([0, 1, 2])\n",
        "print(arr_2,\"\\n\")\n",
        "\n",
        "cov_arr = np.cov(arr_1, arr_2)\n",
        "print(cov_arr, \"\\n\")\n",
        "\n",
        "np.corrcoef(cov_arr, rowvar=False)"
      ],
      "metadata": {
        "colab": {
          "base_uri": "https://localhost:8080/"
        },
        "id": "QCW-g5hAyGS3",
        "outputId": "a9c50075-bf91-4192-93c6-339d13d94380"
      },
      "execution_count": 79,
      "outputs": [
        {
          "output_type": "stream",
          "name": "stdout",
          "text": [
            "[0 2 1] \n",
            "\n",
            "[0 1 2] \n",
            "\n",
            "[[1.  0.5]\n",
            " [0.5 1. ]] \n",
            "\n"
          ]
        },
        {
          "output_type": "execute_result",
          "data": {
            "text/plain": [
              "array([[ 1., -1.],\n",
              "       [-1.,  1.]])"
            ]
          },
          "metadata": {},
          "execution_count": 79
        }
      ]
    },
    {
      "cell_type": "code",
      "source": [
        "# Compute the Kronecker product of two mulitdimension NumPy arrays\n",
        "\n",
        "arr_1 = np.array([[4, 3], [7, 1]])\n",
        "print(arr_1,\"\\n\")\n",
        "arr_2 = np.array([[2, 0], [5, 5]])\n",
        "print(arr_2,\"\\n\")\n",
        "\n",
        "np.kron(arr_1, arr_2)"
      ],
      "metadata": {
        "colab": {
          "base_uri": "https://localhost:8080/"
        },
        "id": "xISxoQQQyH4U",
        "outputId": "434fa2fb-02ba-4ffe-93f4-8699d6605947"
      },
      "execution_count": 80,
      "outputs": [
        {
          "output_type": "stream",
          "name": "stdout",
          "text": [
            "[[4 3]\n",
            " [7 1]] \n",
            "\n",
            "[[2 0]\n",
            " [5 5]] \n",
            "\n"
          ]
        },
        {
          "output_type": "execute_result",
          "data": {
            "text/plain": [
              "array([[ 8,  0,  6,  0],\n",
              "       [20, 20, 15, 15],\n",
              "       [14,  0,  2,  0],\n",
              "       [35, 35,  5,  5]])"
            ]
          },
          "metadata": {},
          "execution_count": 80
        }
      ]
    },
    {
      "cell_type": "code",
      "source": [
        "# Convert the matrix into a list\n",
        "\n",
        "mtrx = np.matrix(np.arange(9).reshape((3,3)))\n",
        "print(mtrx,\"\\n\")\n",
        "\n",
        "mtrx.tolist()"
      ],
      "metadata": {
        "colab": {
          "base_uri": "https://localhost:8080/"
        },
        "id": "VW8y_5h3yJMz",
        "outputId": "28619c58-a363-4409-e1fb-44a323ae3d74"
      },
      "execution_count": 81,
      "outputs": [
        {
          "output_type": "stream",
          "name": "stdout",
          "text": [
            "[[0 1 2]\n",
            " [3 4 5]\n",
            " [6 7 8]] \n",
            "\n"
          ]
        },
        {
          "output_type": "execute_result",
          "data": {
            "text/plain": [
              "[[0, 1, 2], [3, 4, 5], [6, 7, 8]]"
            ]
          },
          "metadata": {},
          "execution_count": 81
        }
      ]
    },
    {
      "cell_type": "markdown",
      "source": [
        "# Questions on NumPy Indexing"
      ],
      "metadata": {
        "id": "1vz9dIMIyRzL"
      }
    },
    {
      "cell_type": "code",
      "source": [
        "# Replace NumPy array elements that doesn’t satisfy the given condition\n",
        "\n",
        "arr = np.array([68, 37, 28, 59])\n",
        "\n",
        "arr[arr > 40] = 30\n",
        "\n",
        "arr"
      ],
      "metadata": {
        "colab": {
          "base_uri": "https://localhost:8080/"
        },
        "id": "cqZeaa4CyV_N",
        "outputId": "eafb2c6a-bc62-4277-b4e6-6fa698003ca9"
      },
      "execution_count": 177,
      "outputs": [
        {
          "output_type": "execute_result",
          "data": {
            "text/plain": [
              "array([30, 37, 28, 30])"
            ]
          },
          "metadata": {},
          "execution_count": 177
        }
      ]
    },
    {
      "cell_type": "code",
      "source": [
        "# Return the indices of elements where the given condition is satisfied\n",
        "\n",
        "arr = np.array([68, 37, 28, 59])\n",
        "\n",
        "arr[np.where(arr > 40)]"
      ],
      "metadata": {
        "colab": {
          "base_uri": "https://localhost:8080/"
        },
        "id": "mQwUORotyYH3",
        "outputId": "f05b8ce0-dc69-4d83-814f-c775f8ebc216"
      },
      "execution_count": 178,
      "outputs": [
        {
          "output_type": "execute_result",
          "data": {
            "text/plain": [
              "array([68, 59])"
            ]
          },
          "metadata": {},
          "execution_count": 178
        }
      ]
    },
    {
      "cell_type": "code",
      "source": [
        "# Replace NaN values with average of columns\n",
        "\n",
        "arr = np.array([[68, np.nan, 28, 59], [np.nan, 32, np.nan, 14], [21, 54, 65, np.nan]])\n",
        "\n",
        "np.where(np.isnan(arr), np.ma.array(arr, mask = np.isnan(arr)).mean(axis = 0), arr)"
      ],
      "metadata": {
        "colab": {
          "base_uri": "https://localhost:8080/"
        },
        "id": "2m9zZVzOybW9",
        "outputId": "ab9c230f-f2dc-434f-b971-33017e7cb91a"
      },
      "execution_count": 179,
      "outputs": [
        {
          "output_type": "execute_result",
          "data": {
            "text/plain": [
              "array([[68. , 43. , 28. , 59. ],\n",
              "       [44.5, 32. , 46.5, 14. ],\n",
              "       [21. , 54. , 65. , 36.5]])"
            ]
          },
          "metadata": {},
          "execution_count": 179
        }
      ]
    },
    {
      "cell_type": "code",
      "source": [
        "# Replace negative value with zero in numpy array\n",
        "\n",
        "arr = np.array([12, -15, 27, -32])\n",
        "\n",
        "np.where(arr<0, 0, arr)"
      ],
      "metadata": {
        "colab": {
          "base_uri": "https://localhost:8080/"
        },
        "id": "H-Ete1XVydME",
        "outputId": "d0dcf12f-d937-4aad-b537-db422b50e686"
      },
      "execution_count": 180,
      "outputs": [
        {
          "output_type": "execute_result",
          "data": {
            "text/plain": [
              "array([12,  0, 27,  0])"
            ]
          },
          "metadata": {},
          "execution_count": 180
        }
      ]
    },
    {
      "cell_type": "code",
      "source": [
        "# How to get values of an NumPy array at certain index positions?\n",
        "\n",
        "arr_1 = np.array([2, 4, 6, 8, 12])\n",
        "\n",
        "arr_2 = np.array([1, 3, 9])\n",
        "\n",
        "arr_1.put([0, 3], arr_2)\n",
        "\n",
        "arr_1"
      ],
      "metadata": {
        "colab": {
          "base_uri": "https://localhost:8080/"
        },
        "id": "X2Dmy8UfydvA",
        "outputId": "6936a652-95a2-4986-871d-531344560c5b"
      },
      "execution_count": 181,
      "outputs": [
        {
          "output_type": "execute_result",
          "data": {
            "text/plain": [
              "array([ 1,  4,  6,  3, 12])"
            ]
          },
          "metadata": {},
          "execution_count": 181
        }
      ]
    },
    {
      "cell_type": "code",
      "source": [
        "# Find indices of elements equal to zero in a NumPy array\n",
        "\n",
        "arr = np.array([0, 1, 0, 0, 0, 5, 3, 9, 0, 2, 7])\n",
        "print(arr,\"\\n\")\n",
        "\n",
        "print(np.where(arr == 0)[0])"
      ],
      "metadata": {
        "colab": {
          "base_uri": "https://localhost:8080/"
        },
        "id": "8VpS_TNYyfaF",
        "outputId": "db116d11-e98c-4673-99d4-97dd5df613e0"
      },
      "execution_count": 182,
      "outputs": [
        {
          "output_type": "stream",
          "name": "stdout",
          "text": [
            "[0 1 0 0 0 5 3 9 0 2 7] \n",
            "\n",
            "[0 2 3 4 8]\n"
          ]
        }
      ]
    },
    {
      "cell_type": "code",
      "source": [
        "# How to Remove columns in Numpy array that contains non-numeric values?\n",
        "\n",
        "arr = np.array([[68, 22, 28, 59], [np.nan, 32, np.nan, 14], [21, 54, 65, 72]])\n",
        "print(arr,\"\\n\")\n",
        "\n",
        "new_arr = arr[~np.isnan(arr).any(axis=1)]\n",
        "print(new_arr)"
      ],
      "metadata": {
        "colab": {
          "base_uri": "https://localhost:8080/"
        },
        "id": "lrQpVJjbyhF8",
        "outputId": "d9b00aeb-55f7-45ad-9f47-41e31d63a704"
      },
      "execution_count": 183,
      "outputs": [
        {
          "output_type": "stream",
          "name": "stdout",
          "text": [
            "[[68. 22. 28. 59.]\n",
            " [nan 32. nan 14.]\n",
            " [21. 54. 65. 72.]] \n",
            "\n",
            "[[68. 22. 28. 59.]\n",
            " [21. 54. 65. 72.]]\n"
          ]
        }
      ]
    },
    {
      "cell_type": "code",
      "source": [
        "# How to access different rows of a multidimensional NumPy array?\n",
        "\n",
        "arr = np.array([[68, 22, 28, 59], [40, 5, 66, 7], \n",
        "                [12, 32, 25, 14], [21, 54, 65, 72]])\n",
        "print(arr,\"\\n\")\n",
        "\n",
        "res_arr = arr[[0,2]]\n",
        "print(\"\\nFirst and last row :\")\n",
        "print(res_arr)\n",
        "\n",
        "res_arr = arr[1]\n",
        "print(\"\\nMiddle row :\")\n",
        "print(res_arr)\n",
        "\n",
        "res_arr = arr[[1,2,3]]\n",
        "print(\"\\nLast three rows :\")\n",
        "print(res_arr)"
      ],
      "metadata": {
        "colab": {
          "base_uri": "https://localhost:8080/"
        },
        "id": "LRkjjsdqyizA",
        "outputId": "17172baf-6510-4c96-e1a3-6aea86a4278a"
      },
      "execution_count": 184,
      "outputs": [
        {
          "output_type": "stream",
          "name": "stdout",
          "text": [
            "[[68 22 28 59]\n",
            " [40  5 66  7]\n",
            " [12 32 25 14]\n",
            " [21 54 65 72]] \n",
            "\n",
            "\n",
            "First and last row :\n",
            "[[68 22 28 59]\n",
            " [12 32 25 14]]\n",
            "\n",
            "Middle row :\n",
            "[40  5 66  7]\n",
            "\n",
            "Last three rows :\n",
            "[[40  5 66  7]\n",
            " [12 32 25 14]\n",
            " [21 54 65 72]]\n"
          ]
        }
      ]
    },
    {
      "cell_type": "code",
      "source": [
        "# Get row numbers of NumPy array having element larger than X\n",
        "\n",
        "arr = np.array([[1, 2, 3, 4, 2], [9, -3, 7, 4, 5],\n",
        "                  [3, 2, 5, -3, 5], [9, 7, 3, 6, 8] ])\n",
        "  \n",
        "X = 5\n",
        "  \n",
        "print(np.where(np.any(arr > X, axis = 1)))"
      ],
      "metadata": {
        "colab": {
          "base_uri": "https://localhost:8080/"
        },
        "id": "w8UABON9yka6",
        "outputId": "d987f735-5bdb-4913-858b-21a976f5028c"
      },
      "execution_count": 185,
      "outputs": [
        {
          "output_type": "stream",
          "name": "stdout",
          "text": [
            "(array([1, 3]),)\n"
          ]
        }
      ]
    },
    {
      "cell_type": "code",
      "source": [
        "# Get filled the diagonals of NumPy array\n",
        "\n",
        "arr = np.array([[1, 2], [2, 4], [3, 5]])\n",
        "np.fill_diagonal(arr, 5)\n",
        "print(arr)"
      ],
      "metadata": {
        "colab": {
          "base_uri": "https://localhost:8080/"
        },
        "id": "QxZ7CDbzymyR",
        "outputId": "51162cbe-0181-4fa4-9a09-3a208cbac75b"
      },
      "execution_count": 186,
      "outputs": [
        {
          "output_type": "stream",
          "name": "stdout",
          "text": [
            "[[5 2]\n",
            " [2 5]\n",
            " [3 5]]\n"
          ]
        }
      ]
    },
    {
      "cell_type": "code",
      "source": [
        "arr = np.array([[6, 1, 2], [5, 7, 9]])\n",
        "\n",
        "print(2 in arr)\n",
        "print(0 in arr)\n",
        "print(7 in arr)"
      ],
      "metadata": {
        "colab": {
          "base_uri": "https://localhost:8080/"
        },
        "id": "gN048oztyoaa",
        "outputId": "b542d4a0-b0d9-41f5-84e0-9e43e2aedf19"
      },
      "execution_count": 187,
      "outputs": [
        {
          "output_type": "stream",
          "name": "stdout",
          "text": [
            "True\n",
            "False\n",
            "True\n"
          ]
        }
      ]
    },
    {
      "cell_type": "code",
      "source": [
        "# Combined array index by index\n",
        "\n",
        "arr = np.array([[1, 2, 3, 4, 2], [9, -3, 7, 4, 5],\n",
        "                  [3, 2, 5, -3, 5], [9, 7, 3, 6, 8] ])\n",
        "\n",
        "# get the rows and lines where the condition is satisfied\n",
        "i1 = np.where(arr>2)\n",
        "i2 = np.where(arr<5)\n",
        "\n",
        "# convert the multi-dim index into 1-dim index.\n",
        "ri1 = np.ravel_multi_index(i1, arr.shape)\n",
        "ri2 = np.ravel_multi_index(i2, arr.shape)\n",
        "\n",
        "# get the index that in both condition.\n",
        "ri = np.intersect1d(ri1, ri2)\n",
        "\n",
        "# convert the 1-dim index back to multi-dim index.\n",
        "i = np.unravel_index(ri, arr.shape)\n",
        "\n",
        "# used to see if two arrays are element-wise equal within a tolerance\n",
        "#np.allclose(a[idx], a[(a>2) & (a<6)])\n",
        "\n",
        "print(\"Result array: \", arr[i])"
      ],
      "metadata": {
        "colab": {
          "base_uri": "https://localhost:8080/"
        },
        "id": "LQB8DJC8yqGB",
        "outputId": "82ceb3e3-b584-476b-820b-ff9e17b069c6"
      },
      "execution_count": 188,
      "outputs": [
        {
          "output_type": "stream",
          "name": "stdout",
          "text": [
            "Result array:  [3 4 4 3 3]\n"
          ]
        }
      ]
    },
    {
      "cell_type": "markdown",
      "source": [
        "# Questions on NumPy Linear Algebra"
      ],
      "metadata": {
        "id": "X0gQjbQnys8L"
      }
    },
    {
      "cell_type": "code",
      "source": [
        "# Find a matrix or vector norm using NumPy\n",
        "\n",
        "vector = np.arange(12)\n",
        "print(\"Vector: \",vector)\n",
        "vec_norm = np.linalg.norm(vector)\n",
        "print(\"\\nVector norm: \",vec_norm)\n",
        "\n",
        "mtrx = np.array([[5, 8, 6], [2, 1, 4]])\n",
        "print(\"\\nMatrix:\\n\", mtrx)\n",
        "mtrx_norm = np.linalg.norm(mtrx)\n",
        "print(\"\\nMatrix norm: \", mtrx_norm)"
      ],
      "metadata": {
        "colab": {
          "base_uri": "https://localhost:8080/"
        },
        "id": "ZIjjW1tpyxFr",
        "outputId": "b7c016ef-4a12-4c7b-8c8f-59233399f513"
      },
      "execution_count": 172,
      "outputs": [
        {
          "output_type": "stream",
          "name": "stdout",
          "text": [
            "Vector:  [ 0  1  2  3  4  5  6  7  8  9 10 11]\n",
            "\n",
            "Vector norm:  22.494443758403985\n",
            "\n",
            "Matrix:\n",
            " [[5 8 6]\n",
            " [2 1 4]]\n",
            "\n",
            "Matrix norm:  12.083045973594572\n"
          ]
        }
      ]
    },
    {
      "cell_type": "code",
      "source": [
        "# Calculate the QR decomposition of a given matrix using NumPy\n",
        "\n",
        "mtrx = np.array([[5, 8, 6], [2, 1, 4]])\n",
        "print(\"\\nMatrix:\\n\", mtrx)\n",
        "\n",
        "q, r = np.linalg.qr(mtrx)\n",
        "print(\"\\nQ:\\n\", q)\n",
        "print(\"\\nR:\\n\", r)"
      ],
      "metadata": {
        "colab": {
          "base_uri": "https://localhost:8080/"
        },
        "id": "p-fpG05Vyxwz",
        "outputId": "01093b23-362a-4722-9343-1ae8ba8bc5b4"
      },
      "execution_count": 173,
      "outputs": [
        {
          "output_type": "stream",
          "name": "stdout",
          "text": [
            "\n",
            "Matrix:\n",
            " [[5 8 6]\n",
            " [2 1 4]]\n",
            "\n",
            "Q:\n",
            " [[-0.92847669 -0.37139068]\n",
            " [-0.37139068  0.92847669]]\n",
            "\n",
            "R:\n",
            " [[-5.38516481 -7.7992042  -7.05642285]\n",
            " [ 0.         -2.04264872  1.48556271]]\n"
          ]
        }
      ]
    },
    {
      "cell_type": "code",
      "source": [
        "# Compute the condition number of a given matrix using NumPy\n",
        "\n",
        "mtrx = np.array([[5, 8, 6], [2, 1, 4]])\n",
        "print(\"\\nMatrix:\\n\", mtrx)\n",
        "\n",
        "condition = np.linalg.cond(mtrx)\n",
        "print(\"\\nQ:\\n\", condition)"
      ],
      "metadata": {
        "colab": {
          "base_uri": "https://localhost:8080/"
        },
        "id": "EfbPuBdFy0jJ",
        "outputId": "f076191f-5c98-4a79-c862-6de871ca669d"
      },
      "execution_count": 174,
      "outputs": [
        {
          "output_type": "stream",
          "name": "stdout",
          "text": [
            "\n",
            "Matrix:\n",
            " [[5 8 6]\n",
            " [2 1 4]]\n",
            "\n",
            "Q:\n",
            " 4.765840093952399\n"
          ]
        }
      ]
    },
    {
      "cell_type": "code",
      "source": [
        "# Compute the eigenvalues and right eigenvectors of a given square array using NumPy?\n",
        "\n",
        "mtrx = np.array([[5, 8, 6], [2, 1, 4], [3, 0, 7]])\n",
        "print(\"Matrix:\\n\", mtrx)\n",
        "\n",
        "w, v = np.linalg.eig(mtrx)\n",
        "print(\"Eigen values:\\n\", w)\n",
        "print(\"Eigen vectors:\\n\", v)"
      ],
      "metadata": {
        "colab": {
          "base_uri": "https://localhost:8080/"
        },
        "id": "ZOXBKKosy1Ol",
        "outputId": "e50b2ba8-98ec-488e-871b-65d4a668c238"
      },
      "execution_count": 175,
      "outputs": [
        {
          "output_type": "stream",
          "name": "stdout",
          "text": [
            "Matrix:\n",
            " [[5 8 6]\n",
            " [2 1 4]\n",
            " [3 0 7]]\n",
            "Eigen values:\n",
            " [ 0.08392022 11.91607978  1.        ]\n",
            "Eigen vectors:\n",
            " [[-0.88673403  0.80637166 -0.88888889]\n",
            " [ 0.25642678  0.32805475  0.11111111]\n",
            " [ 0.38464017  0.49208213  0.44444444]]\n"
          ]
        }
      ]
    },
    {
      "cell_type": "code",
      "source": [
        "# Calculate the Euclidean distance using NumPy\n",
        "\n",
        "arr_1 = np.array([2, 4, 6])\n",
        "arr_2 = np.array([1, 3, 9])\n",
        "\n",
        "dist = np.linalg.norm(arr_1 - arr_2)\n",
        "print(dist)"
      ],
      "metadata": {
        "colab": {
          "base_uri": "https://localhost:8080/"
        },
        "id": "1Go8g_GIy2jL",
        "outputId": "354ea789-2b1f-4a6d-b724-0c64eb5c90f0"
      },
      "execution_count": 176,
      "outputs": [
        {
          "output_type": "stream",
          "name": "stdout",
          "text": [
            "3.3166247903554\n"
          ]
        }
      ]
    },
    {
      "cell_type": "markdown",
      "source": [
        "# Questions on NumPy Random"
      ],
      "metadata": {
        "id": "utTgb6p_y4fe"
      }
    },
    {
      "cell_type": "code",
      "source": [
        "# Create a Numpy array with random values\n",
        "\n",
        "arr = np.empty([4,2], dtype=int)\n",
        "print(arr)"
      ],
      "metadata": {
        "colab": {
          "base_uri": "https://localhost:8080/"
        },
        "id": "E44m4GC0y6fr",
        "outputId": "059af0ce-aab6-4710-f03a-8fde18989626"
      },
      "execution_count": 164,
      "outputs": [
        {
          "output_type": "stream",
          "name": "stdout",
          "text": [
            "[[13 24]\n",
            " [18 12]\n",
            " [ 9  5]\n",
            " [35  7]]\n"
          ]
        }
      ]
    },
    {
      "cell_type": "code",
      "source": [
        "# How to choose elements from the list with different probability using NumPy?\n",
        "\n",
        "n_list = [1, 2, 4, 8, 16, 32]\n",
        "\n",
        "# choose index number-5rd element with 100% probability\n",
        "# with list size of 3\n",
        "number = np.random.choice(n_list, 3, p = [0, 0, 0, 0, 1, 0])\n",
        "print(number)\n",
        "\n",
        "# choose index number 2nd & 3rd element with  50%-50% probability and other\n",
        "# elements probability set to 0 using p parameter of the choice() method\n",
        "number = np.random.choice(n_list, 3, p = [0, 0, 0.5, 0.5, 0, 0])\n",
        "print(\"\\n\", number)"
      ],
      "metadata": {
        "colab": {
          "base_uri": "https://localhost:8080/"
        },
        "id": "UUDy7zjYy8fw",
        "outputId": "707f4a9a-8808-4249-c87c-14c8e1a4bc85"
      },
      "execution_count": 165,
      "outputs": [
        {
          "output_type": "stream",
          "name": "stdout",
          "text": [
            "[16 16 16]\n",
            "\n",
            " [8 4 4]\n"
          ]
        }
      ]
    },
    {
      "cell_type": "code",
      "source": [
        "# How to get weighted random choice in Python?\n",
        "\n",
        "from numpy.random import choice\n",
        "\n",
        "sampleList = [10, 20, 30, 40, 50]\n",
        "randomNumberList = choice(sampleList, 5, \n",
        "                          p=[0.05, 0.1, 0.15, 0.20, 0.5])\n",
        "  \n",
        "print(randomNumberList)"
      ],
      "metadata": {
        "colab": {
          "base_uri": "https://localhost:8080/"
        },
        "id": "MHyPxoPwy-XZ",
        "outputId": "fa044da3-d123-4187-ff1e-0db23b458979"
      },
      "execution_count": 166,
      "outputs": [
        {
          "output_type": "stream",
          "name": "stdout",
          "text": [
            "[40 50 50 40 50]\n"
          ]
        }
      ]
    },
    {
      "cell_type": "code",
      "source": [
        "# Generate Random Numbers From The Uniform Distribution using NumPy\n",
        "\n",
        "r = np.random.uniform(size=10)\n",
        "print(r)"
      ],
      "metadata": {
        "colab": {
          "base_uri": "https://localhost:8080/"
        },
        "id": "d_orB7hQzAFT",
        "outputId": "0bac5e42-7e2a-4bc4-e892-ca4473c477e2"
      },
      "execution_count": 167,
      "outputs": [
        {
          "output_type": "stream",
          "name": "stdout",
          "text": [
            "[0.36534564 0.81132787 0.40678725 0.70452725 0.74510255 0.95612288\n",
            " 0.41336323 0.87341869 0.8199703  0.77777454]\n"
          ]
        }
      ]
    },
    {
      "cell_type": "code",
      "source": [
        "# Get Random Elements from geometric distribution\n",
        "\n",
        "r = np.random.geometric(0.25, 50)\n",
        "print(r)"
      ],
      "metadata": {
        "colab": {
          "base_uri": "https://localhost:8080/"
        },
        "id": "ew6V6xFAzB4L",
        "outputId": "a88d766c-63ee-4230-e2e0-2d727a49c172"
      },
      "execution_count": 168,
      "outputs": [
        {
          "output_type": "stream",
          "name": "stdout",
          "text": [
            "[ 3 11  3  6  2  1  4  8  3  2  1  6  2  1  3  6  9  1  4  1  2  9  4  3\n",
            "  1  1  1  8  1  9  2  2  5  6  1  1  1  2  2  2  5  2  1  3  5  7  2  2\n",
            "  9  2]\n"
          ]
        }
      ]
    },
    {
      "cell_type": "code",
      "source": [
        "# Get Random elements from Laplace distribution\n",
        "\n",
        "r = np.random.laplace(1, 10, 50)\n",
        "print(r)"
      ],
      "metadata": {
        "colab": {
          "base_uri": "https://localhost:8080/"
        },
        "id": "OPXEPxiIzDpg",
        "outputId": "d6082728-0399-4a7b-8923-0e63640af7cc"
      },
      "execution_count": 169,
      "outputs": [
        {
          "output_type": "stream",
          "name": "stdout",
          "text": [
            "[ 19.15659346  27.53880428  17.77088671  -3.9912622   40.58857327\n",
            " -16.71871128   1.65241775  20.76708286  -1.88181515  10.85083871\n",
            "  -8.08579369  -9.81339846   8.29408989   0.44063478  -7.75909194\n",
            "   0.81167835 -15.04241437  35.36924365   0.53095087  10.05508626\n",
            "  25.01289829   6.79598409  -1.68799085 -15.71577346   5.31700523\n",
            " -12.84208279  -1.25663437  10.54426957  -1.85295474  37.61944277\n",
            "  23.57540684  -3.62702432  -1.36741959  -4.7390471   12.88378273\n",
            "  -2.0351317    5.71667554 -18.98314819 -15.22709338  -1.18242924\n",
            "  -3.26325358  18.39786427   3.92211446   2.014022    14.24269909\n",
            " -27.21529154  -6.11916163 -17.19762749  11.25829647   9.2589859 ]\n"
          ]
        }
      ]
    },
    {
      "cell_type": "code",
      "source": [
        "# Return a Matrix of random values from a uniform distribution\n",
        "\n",
        "import numpy.matlib\n",
        "\n",
        "mtrx = np.matlib.rand((5, 3))\n",
        "print(mtrx)"
      ],
      "metadata": {
        "colab": {
          "base_uri": "https://localhost:8080/"
        },
        "id": "l_eQohCVzFZP",
        "outputId": "5fc1f49c-d30a-4c17-d983-f19ad204d833"
      },
      "execution_count": 170,
      "outputs": [
        {
          "output_type": "stream",
          "name": "stdout",
          "text": [
            "[[0.8539116  0.99463399 0.89262443]\n",
            " [0.12408363 0.87470914 0.17319419]\n",
            " [0.75791116 0.81421043 0.07200838]\n",
            " [0.0759319  0.55380495 0.48240154]\n",
            " [0.4946634  0.13645377 0.72666621]]\n"
          ]
        }
      ]
    },
    {
      "cell_type": "code",
      "source": [
        "# Return a Matrix of random values from a Gaussian distribution\n",
        "\n",
        "mtrx = np.random.normal(0.0, 1.0, (5, 3))\n",
        "print(mtrx)"
      ],
      "metadata": {
        "colab": {
          "base_uri": "https://localhost:8080/"
        },
        "id": "6GDUqHaczHem",
        "outputId": "f08e84c9-3e36-4cd5-c90e-700dc426e333"
      },
      "execution_count": 171,
      "outputs": [
        {
          "output_type": "stream",
          "name": "stdout",
          "text": [
            "[[ 0.69576995 -0.04052691  0.18321117]\n",
            " [ 0.46847356  0.9380263  -1.29708483]\n",
            " [ 0.39085613  0.23107334  0.30812269]\n",
            " [-0.98159691  1.23289485 -0.60442623]\n",
            " [-0.46421364 -2.07290012  1.16886025]]\n"
          ]
        }
      ]
    },
    {
      "cell_type": "markdown",
      "source": [
        "# Questions on NumPy Sorting and Searching"
      ],
      "metadata": {
        "id": "k0Q9hEK-zMQK"
      }
    },
    {
      "cell_type": "code",
      "source": [
        "# How to get the indices of the sorted array using NumPy in Python?\n",
        "\n",
        "arr = np.array([13, 24, 58, 12, 9, 5, 35, 9, 77, 2, 61])\n",
        "print(arr,\"\\n\")\n",
        "\n",
        "indices = np.argsort(arr)\n",
        "print(indices)"
      ],
      "metadata": {
        "colab": {
          "base_uri": "https://localhost:8080/"
        },
        "id": "RINfwaV6zNMa",
        "outputId": "fa978d3e-44c6-4fca-fc11-00c76dfb9145"
      },
      "execution_count": 158,
      "outputs": [
        {
          "output_type": "stream",
          "name": "stdout",
          "text": [
            "[13 24 58 12  9  5 35  9 77  2 61] \n",
            "\n",
            "[ 9  5  4  7  3  0  1  6  2 10  8]\n"
          ]
        }
      ]
    },
    {
      "cell_type": "code",
      "source": [
        "# Finding the k smallest values of a NumPy array\n",
        "\n",
        "arr = np.array([13, 24, 18, 12, 9, 5, 35, 7])\n",
        "print(arr,\"\\n\")\n",
        "\n",
        "k = 5\n",
        "  \n",
        "# sorting the array\n",
        "arr_1 = np.sort(arr)\n",
        "  \n",
        "# k smallest number of array\n",
        "print(k, \"smallest elements of the array\")\n",
        "print(arr_1[:k])"
      ],
      "metadata": {
        "colab": {
          "base_uri": "https://localhost:8080/"
        },
        "id": "C_BIwC3XzOkk",
        "outputId": "f7dd8edc-09d8-42df-e9ab-4643ea87f9a9"
      },
      "execution_count": 159,
      "outputs": [
        {
          "output_type": "stream",
          "name": "stdout",
          "text": [
            "[13 24 18 12  9  5 35  7] \n",
            "\n",
            "5 smallest elements of the array\n",
            "[ 5  7  9 12 13]\n"
          ]
        }
      ]
    },
    {
      "cell_type": "code",
      "source": [
        "# How to get the n-largest values of an array using NumPy?\n",
        "\n",
        "arr = np.array([13, 24, 18, 12, 9, 5, 35, 7])\n",
        "print(arr,\"\\n\")\n",
        "\n",
        "# np.argsort() return\n",
        "# array of indices for\n",
        "# sorted array\n",
        "sorted_index_array = np.argsort(arr)\n",
        "  \n",
        "# sorted array\n",
        "sorted_array = arr[sorted_index_array]\n",
        "  \n",
        "print(\"Sorted array:\", sorted_array)\n",
        "\n",
        "n = 2\n",
        "\n",
        "# take n largest value\n",
        "result = sorted_array[-n : ]\n",
        "  \n",
        "# show the output\n",
        "print(\"{} largest value:\".format(n),\n",
        "      result[0])"
      ],
      "metadata": {
        "colab": {
          "base_uri": "https://localhost:8080/"
        },
        "id": "3TAf_jWkzQmy",
        "outputId": "4511dace-c581-48e0-db62-d7cf907b5a5a"
      },
      "execution_count": 160,
      "outputs": [
        {
          "output_type": "stream",
          "name": "stdout",
          "text": [
            "[13 24 18 12  9  5 35  7] \n",
            "\n",
            "Sorted array: [ 5  7  9 12 13 18 24 35]\n",
            "2 largest value: 24\n"
          ]
        }
      ]
    },
    {
      "cell_type": "code",
      "source": [
        "# Sort the values in a matrix\n",
        "\n",
        "mtrx = np.matrix([[4, 3], [7, 1], [8, 9]])\n",
        "\n",
        "mtrx.sort(axis=1)\n",
        "\n",
        "print(mtrx)"
      ],
      "metadata": {
        "colab": {
          "base_uri": "https://localhost:8080/"
        },
        "id": "CLlCWPMCzSS8",
        "outputId": "7a91ff67-3768-493d-e08a-00b0999a644d"
      },
      "execution_count": 161,
      "outputs": [
        {
          "output_type": "stream",
          "name": "stdout",
          "text": [
            "[[3 4]\n",
            " [1 7]\n",
            " [8 9]]\n"
          ]
        }
      ]
    },
    {
      "cell_type": "code",
      "source": [
        "# Filter out integers from float numpy array\n",
        "\n",
        "arr = np.array([3.0, 5.2, 1.4, 8.0, 3.3, 2.0])\n",
        "print (\"initial array: \", str(arr))\n",
        " \n",
        "# filtering integers\n",
        "result = arr[arr != arr.astype(int)]\n",
        "print (\"final array: \", result)"
      ],
      "metadata": {
        "colab": {
          "base_uri": "https://localhost:8080/"
        },
        "id": "wzuRy0_3zT5X",
        "outputId": "5b8b6641-93dc-4ce4-adf5-d79178f1891d"
      },
      "execution_count": 162,
      "outputs": [
        {
          "output_type": "stream",
          "name": "stdout",
          "text": [
            "initial array:  [3.  5.2 1.4 8.  3.3 2. ]\n",
            "final array:  [5.2 1.4 3.3]\n"
          ]
        }
      ]
    },
    {
      "cell_type": "code",
      "source": [
        "# Find the indices into a sorted array\n",
        "\n",
        "arr = np.array([2, 4, 1, 7, 3])\n",
        "print(arr)\n",
        "  \n",
        "indices = np.argsort(arr)\n",
        "print(indices)"
      ],
      "metadata": {
        "colab": {
          "base_uri": "https://localhost:8080/"
        },
        "id": "z6xt3qfOzV8L",
        "outputId": "8a93eada-5b1a-4b1f-b6bc-8abdaece5815"
      },
      "execution_count": 163,
      "outputs": [
        {
          "output_type": "stream",
          "name": "stdout",
          "text": [
            "[2 4 1 7 3]\n",
            "[2 0 4 1 3]\n"
          ]
        }
      ]
    },
    {
      "cell_type": "markdown",
      "source": [
        "# Questions on NumPy Mathematics"
      ],
      "metadata": {
        "id": "q0fW-hMJzXlL"
      }
    },
    {
      "cell_type": "code",
      "source": [
        "# How to get element-wise true division of an array using Numpy?\n",
        "\n",
        "arr = np.arange(10)\n",
        "print(arr)\n",
        "\n",
        "result = np.true_divide(arr, 4)\n",
        "print(\"\\nElement-wise true division:\\n\",result)"
      ],
      "metadata": {
        "colab": {
          "base_uri": "https://localhost:8080/"
        },
        "id": "L_9VorStzZlJ",
        "outputId": "b5a63764-cf67-4be3-f1c9-c3a90eda924d"
      },
      "execution_count": 143,
      "outputs": [
        {
          "output_type": "stream",
          "name": "stdout",
          "text": [
            "[0 1 2 3 4 5 6 7 8 9]\n",
            "\n",
            "Element-wise true division:\n",
            " [0.   0.25 0.5  0.75 1.   1.25 1.5  1.75 2.   2.25]\n"
          ]
        }
      ]
    },
    {
      "cell_type": "code",
      "source": [
        "# How to calculate the element-wise absolute value of NumPy array?\n",
        "\n",
        "arr = np.array([[-2, -7, 4], [1, -3, 5], [-8, -9, 0]])\n",
        "print(arr)\n",
        "\n",
        "result = np.absolute(arr)\n",
        "print(\"\\nAbsolute array:\\n\",result)"
      ],
      "metadata": {
        "colab": {
          "base_uri": "https://localhost:8080/"
        },
        "id": "JN4j1a89zcqS",
        "outputId": "61e3407d-066b-4b45-9dc1-6c4a9c259f02"
      },
      "execution_count": 144,
      "outputs": [
        {
          "output_type": "stream",
          "name": "stdout",
          "text": [
            "[[-2 -7  4]\n",
            " [ 1 -3  5]\n",
            " [-8 -9  0]]\n",
            "\n",
            "Absolute array:\n",
            " [[2 7 4]\n",
            " [1 3 5]\n",
            " [8 9 0]]\n"
          ]
        }
      ]
    },
    {
      "cell_type": "code",
      "source": [
        "# Compute the negative of the NumPy array\n",
        "\n",
        "arr = np.array([[2, 1, 4], [7, -3, 5], [-8, 6, 9]])\n",
        "print(arr)\n",
        "\n",
        "result = np.negative(arr)\n",
        "print(\"\\nNegative array:\\n\",result)"
      ],
      "metadata": {
        "colab": {
          "base_uri": "https://localhost:8080/"
        },
        "id": "uznarMBAzerR",
        "outputId": "dac9af2e-0840-429b-8581-96a357186465"
      },
      "execution_count": 145,
      "outputs": [
        {
          "output_type": "stream",
          "name": "stdout",
          "text": [
            "[[ 2  1  4]\n",
            " [ 7 -3  5]\n",
            " [-8  6  9]]\n",
            "\n",
            "Negative array:\n",
            " [[-2 -1 -4]\n",
            " [-7  3 -5]\n",
            " [ 8 -6 -9]]\n"
          ]
        }
      ]
    },
    {
      "cell_type": "code",
      "source": [
        "# Multiply 2d numpy array corresponding to 1d array\n",
        "\n",
        "arr_1 = np.array([[3, 2, 1], [0, 4, 7], [1, 6, 2]])\n",
        "arr_2 = np.array([2, 1, 4])\n",
        "\n",
        "result = arr_1 * arr_2[:, np.newaxis]\n",
        "print(result)"
      ],
      "metadata": {
        "colab": {
          "base_uri": "https://localhost:8080/"
        },
        "id": "W75_nBANzgYs",
        "outputId": "f1a46a0b-ab38-4013-9bc5-c25cd0a4e5c1"
      },
      "execution_count": 146,
      "outputs": [
        {
          "output_type": "stream",
          "name": "stdout",
          "text": [
            "[[ 6  4  2]\n",
            " [ 0  4  7]\n",
            " [ 4 24  8]]\n"
          ]
        }
      ]
    },
    {
      "cell_type": "code",
      "source": [
        "# Computes the inner product of two arrays\n",
        "\n",
        "arr_1 = np.array([3, 5, 7])\n",
        "arr_2 = np.array([8, 2, 4])\n",
        "\n",
        "result = np.inner(arr_1, arr_2)\n",
        "print(result)"
      ],
      "metadata": {
        "colab": {
          "base_uri": "https://localhost:8080/"
        },
        "id": "o3t9iseszh3Z",
        "outputId": "236c235b-99e9-4f09-92c7-e560c9286778"
      },
      "execution_count": 147,
      "outputs": [
        {
          "output_type": "stream",
          "name": "stdout",
          "text": [
            "62\n"
          ]
        }
      ]
    },
    {
      "cell_type": "code",
      "source": [
        "# Compute the nth percentile of the NumPy array\n",
        "\n",
        "arr = np.array([[5, 8, 6], [2, 1, 4], [7, 8, 9]])\n",
        "\n",
        "n = 50\n",
        "\n",
        "print(\"{}th percentile of arr, axis=None: \".format(n), np.percentile(arr, n))\n",
        "print(\"{}th percentile of arr, axis=0: \".format(n), np.percentile(arr, n, axis=0))\n",
        "print(\"{}th percentile of arr, axis=0: \".format(n), np.percentile(arr, n, axis=1))"
      ],
      "metadata": {
        "colab": {
          "base_uri": "https://localhost:8080/"
        },
        "id": "FARv01fkzj__",
        "outputId": "2149a6d9-044c-495c-e28f-fd686cfcf0a7"
      },
      "execution_count": 148,
      "outputs": [
        {
          "output_type": "stream",
          "name": "stdout",
          "text": [
            "50th percentile of arr, axis=None:  6.0\n",
            "50th percentile of arr, axis=0:  [5. 8. 6.]\n",
            "50th percentile of arr, axis=0:  [6. 2. 8.]\n"
          ]
        }
      ]
    },
    {
      "cell_type": "code",
      "source": [
        "# Calculate the n-th order discrete difference along the given axis\n",
        "\n",
        "arr = np.array([[2, 3, 9], [5, 0, 4]])\n",
        "\n",
        "print(\"Input array:\\n\", arr)\n",
        "print(\"First order difference:\\n\", np.diff(arr))\n",
        "print(\"Second order difference:\\n\", np.diff(arr, n = 2))\n",
        "print(\"Difference when axis is 0:\\n\", np.diff(arr, axis = 0))\n",
        "print(\"Difference when axis is 1:\\n\", np.diff(arr, axis = 1))"
      ],
      "metadata": {
        "colab": {
          "base_uri": "https://localhost:8080/"
        },
        "id": "3DM3X5tozmNG",
        "outputId": "7d31b996-641c-406f-acc8-be46329a30a6"
      },
      "execution_count": 149,
      "outputs": [
        {
          "output_type": "stream",
          "name": "stdout",
          "text": [
            "Input array:\n",
            " [[2 3 9]\n",
            " [5 0 4]]\n",
            "First order difference:\n",
            " [[ 1  6]\n",
            " [-5  4]]\n",
            "Second order difference:\n",
            " [[5]\n",
            " [9]]\n",
            "Difference when axis is 0:\n",
            " [[ 3 -3 -5]]\n",
            "Difference when axis is 1:\n",
            " [[ 1  6]\n",
            " [-5  4]]\n"
          ]
        }
      ]
    },
    {
      "cell_type": "code",
      "source": [
        "# Calculate the sum of all columns in a 2D NumPy array\n",
        "\n",
        "arr = np.array([[5, 8, 6], [2, 1, 4], [7, 8, 9], [4, 5, 6]])\n",
        "\n",
        "print(np.sum(arr, axis=0))"
      ],
      "metadata": {
        "colab": {
          "base_uri": "https://localhost:8080/"
        },
        "id": "F9GGwm_dzo4s",
        "outputId": "5d06dedb-e7ee-4ea5-912d-2f2d52c6052f"
      },
      "execution_count": 150,
      "outputs": [
        {
          "output_type": "stream",
          "name": "stdout",
          "text": [
            "[18 22 25]\n"
          ]
        }
      ]
    },
    {
      "cell_type": "code",
      "source": [
        "# Calculate average values of two given NumPy arrays\n",
        "\n",
        "arr_1 = np.array([[3, 5, 7], [2, 1, 4]])\n",
        "arr_2 = np.array([[8, 2, 4], [6, 9, 5]])\n",
        "  \n",
        "avg = (arr_1 + arr_2) / 2\n",
        "print(\"Average:\\n\", avg)"
      ],
      "metadata": {
        "colab": {
          "base_uri": "https://localhost:8080/"
        },
        "id": "hZeCEG0RzqS4",
        "outputId": "9a2c6ad6-9b8c-488e-f614-297a8ffc3d99"
      },
      "execution_count": 151,
      "outputs": [
        {
          "output_type": "stream",
          "name": "stdout",
          "text": [
            "Average:\n",
            " [[5.5 3.5 5.5]\n",
            " [4.  5.  4.5]]\n"
          ]
        }
      ]
    },
    {
      "cell_type": "code",
      "source": [
        "# How to compute numerical negative value for all elements in a given NumPy array?\n",
        "\n",
        "arr = np.array([2, -1, 4, 7, -3, 5])\n",
        "print(arr)\n",
        "\n",
        "result = np.negative(arr)\n",
        "print(\"\\nNegative array:\\n\",result)"
      ],
      "metadata": {
        "colab": {
          "base_uri": "https://localhost:8080/"
        },
        "id": "gJph8Mlwzvi2",
        "outputId": "3b058a54-c7d2-441a-c258-383cb07c13de"
      },
      "execution_count": 152,
      "outputs": [
        {
          "output_type": "stream",
          "name": "stdout",
          "text": [
            "[ 2 -1  4  7 -3  5]\n",
            "\n",
            "Negative array:\n",
            " [-2  1 -4 -7  3 -5]\n"
          ]
        }
      ]
    },
    {
      "cell_type": "code",
      "source": [
        "# How to get the floor, ceiling and truncated values of the elements of a numpy array?\n",
        "\n",
        "arr = np.array([3.5, -5.8, 7.6, 2., -1.3, 4.5])\n",
        "\n",
        "print(arr)\n",
        "  \n",
        "floor_values = np.floor(arr)\n",
        "print(\"\\nFloor values : \\n\", floor_values)\n",
        "  \n",
        "ceil_values = np.ceil(arr)\n",
        "print(\"\\nCeil values : \\n\", ceil_values)\n",
        "  \n",
        "trunc_values = np.trunc(arr)\n",
        "print(\"\\nTruncated values : \\n\", trunc_values)"
      ],
      "metadata": {
        "colab": {
          "base_uri": "https://localhost:8080/"
        },
        "id": "80NJQmESzw6D",
        "outputId": "0e312c64-cfa6-48a5-b374-d358d1b54527"
      },
      "execution_count": 153,
      "outputs": [
        {
          "output_type": "stream",
          "name": "stdout",
          "text": [
            "[ 3.5 -5.8  7.6  2.  -1.3  4.5]\n",
            "\n",
            "Floor values : \n",
            " [ 3. -6.  7.  2. -2.  4.]\n",
            "\n",
            "Ceil values : \n",
            " [ 4. -5.  8.  2. -1.  5.]\n",
            "\n",
            "Truncated values : \n",
            " [ 3. -5.  7.  2. -1.  4.]\n"
          ]
        }
      ]
    },
    {
      "cell_type": "code",
      "source": [
        "# How to round elements of the NumPy array to the nearest integer?\n",
        "\n",
        "arr = np.array([0.2, 0.3, 0.4, 0.5, 0.6, 0.7, 0.8, 0.9])\n",
        "print(\"Original array: \", arr)\n",
        "\n",
        "new_arr = np.rint(arr)\n",
        "print(\"After rounding: \", new_arr)"
      ],
      "metadata": {
        "colab": {
          "base_uri": "https://localhost:8080/"
        },
        "id": "CpkifpgbzyKb",
        "outputId": "4f156e15-05cf-43bf-bf95-1f00bca4c390"
      },
      "execution_count": 154,
      "outputs": [
        {
          "output_type": "stream",
          "name": "stdout",
          "text": [
            "Original array:  [0.2 0.3 0.4 0.5 0.6 0.7 0.8 0.9]\n",
            "After rounding:  [0. 0. 0. 0. 1. 1. 1. 1.]\n"
          ]
        }
      ]
    },
    {
      "cell_type": "code",
      "source": [
        "# Find the round off the values of the given matrix\n",
        "\n",
        "mtrx = np.matrix('[1.3, 2.2; 3.5, 4.7; 6.3, 9.8]')\n",
        "\n",
        "new_mtrx = np.round(mtrx)\n",
        "print(new_mtrx)"
      ],
      "metadata": {
        "colab": {
          "base_uri": "https://localhost:8080/"
        },
        "id": "hX5eZqA3zzq3",
        "outputId": "66f8eaec-a886-4ab2-8568-17d1e30090d3"
      },
      "execution_count": 155,
      "outputs": [
        {
          "output_type": "stream",
          "name": "stdout",
          "text": [
            "[[ 1.  2.]\n",
            " [ 4.  5.]\n",
            " [ 6. 10.]]\n"
          ]
        }
      ]
    },
    {
      "cell_type": "code",
      "source": [
        "# Determine the positive square-root of an array\n",
        "\n",
        "arr = np.array([[5, 4, 9, 2, 16, 52]])\n",
        "\n",
        "new_arr = np.sqrt(arr)\n",
        "print(arr)"
      ],
      "metadata": {
        "colab": {
          "base_uri": "https://localhost:8080/"
        },
        "id": "ymS3XNT1z1O4",
        "outputId": "0e216f7d-3faa-44cc-d673-e40dc74dbeec"
      },
      "execution_count": 156,
      "outputs": [
        {
          "output_type": "stream",
          "name": "stdout",
          "text": [
            "[[ 5  4  9  2 16 52]]\n"
          ]
        }
      ]
    },
    {
      "cell_type": "code",
      "source": [
        "# Evaluate Einstein’s summation convention of two multidimensional NumPy arrays\n",
        "\n",
        "array_1 = np.array([[3, 5, 7], [2, 1, 4], [7, 8, 0]])\n",
        "array_2 = np.array([[8, 2, 4], [6, 9, 5], [3, 2, 2]])\n",
        "\n",
        "result = np.einsum(\"mk,kn\", array_1, array_2)\n",
        "print(\"Einstein’s summation convention of the two matrix/arrays:\")\n",
        "print(result)"
      ],
      "metadata": {
        "colab": {
          "base_uri": "https://localhost:8080/"
        },
        "id": "QHOpdhuiz2s8",
        "outputId": "781d31cb-a93c-4dc0-8158-8f84f9310489"
      },
      "execution_count": 157,
      "outputs": [
        {
          "output_type": "stream",
          "name": "stdout",
          "text": [
            "Einstein’s summation convention of the two matrix/arrays:\n",
            "[[ 75  65  51]\n",
            " [ 34  21  21]\n",
            " [104  86  68]]\n"
          ]
        }
      ]
    },
    {
      "cell_type": "markdown",
      "source": [
        "# Questions on NumPy Statistics"
      ],
      "metadata": {
        "id": "6XSKMFTlz4jN"
      }
    },
    {
      "cell_type": "code",
      "source": [
        "# Compute the median of the flattened NumPy array\n",
        "\n",
        "arr = np.array([[2, 4, 8, 16, 32, 64]])\n",
        "\n",
        "median = np.median(arr)\n",
        "print(median)"
      ],
      "metadata": {
        "colab": {
          "base_uri": "https://localhost:8080/"
        },
        "id": "vv4xhoHBz6PY",
        "outputId": "be804855-b4a1-47b5-bbc9-632716c76e3d"
      },
      "execution_count": 133,
      "outputs": [
        {
          "output_type": "stream",
          "name": "stdout",
          "text": [
            "12.0\n"
          ]
        }
      ]
    },
    {
      "cell_type": "code",
      "source": [
        "# Find Mean of a List of Numpy Array\n",
        "\n",
        "Input = [np.array([2, 2, 3]),\n",
        "         np.array([4, 5, 7]),\n",
        "         np.array([6, 8, 9])]\n",
        "  \n",
        "Output = []\n",
        "  \n",
        "# using np.mean()\n",
        "for i in range(len(Input)):\n",
        "   Output.append(np.mean(Input[i]))\n",
        "  \n",
        "print(Output)"
      ],
      "metadata": {
        "colab": {
          "base_uri": "https://localhost:8080/"
        },
        "id": "6_Ng_5Gmz751",
        "outputId": "7bf01b01-55f4-41ef-9a42-4e3de95bf085"
      },
      "execution_count": 134,
      "outputs": [
        {
          "output_type": "stream",
          "name": "stdout",
          "text": [
            "[2.3333333333333335, 5.333333333333333, 7.666666666666667]\n"
          ]
        }
      ]
    },
    {
      "cell_type": "code",
      "source": [
        "# Calculate the mean of array ignoring the NaN value\n",
        "\n",
        "arr = np.array([[3, 5, 7], [2, np.nan, 4],  [8, 6, np.nan]])\n",
        "\n",
        "print(\"Mean without ignore NaN values: \", np.mean(arr))\n",
        "print(\"Mean ignoring NaN values: \", np.nanmean(arr))"
      ],
      "metadata": {
        "colab": {
          "base_uri": "https://localhost:8080/"
        },
        "id": "pxc5WrKvz-ve",
        "outputId": "7d12eeb0-c1f4-4c36-a3cb-13b9adbb6b34"
      },
      "execution_count": 135,
      "outputs": [
        {
          "output_type": "stream",
          "name": "stdout",
          "text": [
            "Mean without ignore NaN values:  nan\n",
            "Mean ignoring NaN values:  5.0\n"
          ]
        }
      ]
    },
    {
      "cell_type": "code",
      "source": [
        "# Get the mean value from given matrix\n",
        "\n",
        "mtrx = np.matrix(np.arange(9).reshape(3, 3))\n",
        "print(mtrx, \"\\n\")\n",
        "print(np.mean(mtrx))"
      ],
      "metadata": {
        "colab": {
          "base_uri": "https://localhost:8080/"
        },
        "id": "fVHZCdcJz_8i",
        "outputId": "bc7595da-a9b5-49e8-8ed8-7f651e6f69fd"
      },
      "execution_count": 136,
      "outputs": [
        {
          "output_type": "stream",
          "name": "stdout",
          "text": [
            "[[0 1 2]\n",
            " [3 4 5]\n",
            " [6 7 8]] \n",
            "\n",
            "4.0\n"
          ]
        }
      ]
    },
    {
      "cell_type": "code",
      "source": [
        "# Compute the variance of the NumPy array\n",
        "\n",
        "arr = np.array([[3, 3, 9], [2, 1, 2]])\n",
        "\n",
        "# var of the flattened array \n",
        "print(\"\\nvar of arr, axis=None : \", np.var(arr)) \n",
        "      \n",
        "# var along the axis = 0 \n",
        "print(\"\\nvar of arr, axis=0 : \", np.var(arr, axis=0))"
      ],
      "metadata": {
        "colab": {
          "base_uri": "https://localhost:8080/"
        },
        "id": "IOXoMv3c0BRL",
        "outputId": "fd1e4b92-63c5-48c7-e937-e226d58c8c55"
      },
      "execution_count": 137,
      "outputs": [
        {
          "output_type": "stream",
          "name": "stdout",
          "text": [
            "\n",
            "var of arr, axis=None :  6.888888888888888\n",
            "\n",
            "var of arr, axis=0 :  [ 0.25  1.   12.25]\n"
          ]
        }
      ]
    },
    {
      "cell_type": "code",
      "source": [
        "# Compute the standard deviation of the NumPy array\n",
        "\n",
        "arr = np.array([[3, 2, 1], [0, 4, 7], [1, 6, 2]])\n",
        "\n",
        "# std of the flattened array \n",
        "print(\"\\nstd of arr, axis=None : \", np.std(arr)) \n",
        "    \n",
        "# std along the axis = 0 \n",
        "print(\"\\nstd of arr, axis=0 : \", np.std(arr, axis=0))"
      ],
      "metadata": {
        "colab": {
          "base_uri": "https://localhost:8080/"
        },
        "id": "ZARCupmp0Cpu",
        "outputId": "6b6c1bbb-2533-4a6f-c7cb-c882686a335c"
      },
      "execution_count": 138,
      "outputs": [
        {
          "output_type": "stream",
          "name": "stdout",
          "text": [
            "\n",
            "std of arr, axis=None :  2.23330569358242\n",
            "\n",
            "std of arr, axis=0 :  [1.24721913 1.63299316 2.62466929]\n"
          ]
        }
      ]
    },
    {
      "cell_type": "code",
      "source": [
        "# Compute pearson product-moment correlation coefficients of two given NumPy arrays\n",
        "\n",
        "arr_1 = np.array([3, 5, 6])\n",
        "arr_2 = np.array([1, 2, 4])\n",
        "\n",
        "result = np.corrcoef(arr_1, arr_2)\n",
        "print(result)"
      ],
      "metadata": {
        "colab": {
          "base_uri": "https://localhost:8080/"
        },
        "id": "rNmGCRc70EbL",
        "outputId": "dce83dbc-79cb-4983-b528-6db35dd503c5"
      },
      "execution_count": 139,
      "outputs": [
        {
          "output_type": "stream",
          "name": "stdout",
          "text": [
            "[[1.         0.92857143]\n",
            " [0.92857143 1.        ]]\n"
          ]
        }
      ]
    },
    {
      "cell_type": "code",
      "source": [
        "# Calculate the mean across dimension in a 2D NumPy array\n",
        "\n",
        "arr = np.array([[8, 2, 4], [6, 4, 5], [3, 2, 1]])\n",
        "\n",
        "\n",
        "# Calculating mean across Rows\n",
        "row_mean = np.mean(arr, axis=1)\n",
        "\n",
        "row1_mean = row_mean[0]\n",
        "print(\"Mean of Row 1 is\", row1_mean)\n",
        "  \n",
        "row2_mean = row_mean[1]\n",
        "print(\"Mean of Row 2 is\", row2_mean)\n",
        "  \n",
        "row3_mean = row_mean[2]\n",
        "print(\"Mean of Row 3 is\", row3_mean)\n",
        "  \n",
        "  \n",
        "# Calculating mean across Columns\n",
        "column_mean = np.mean(arr, axis=0)\n",
        "  \n",
        "column1_mean = column_mean[0]\n",
        "print(\"Mean of column 1 is\", column1_mean)\n",
        "  \n",
        "column2_mean = column_mean[1]\n",
        "print(\"Mean of column 2 is\", column2_mean)\n",
        "  \n",
        "column3_mean = column_mean[2]\n",
        "print(\"Mean of column 3 is\", column3_mean)"
      ],
      "metadata": {
        "colab": {
          "base_uri": "https://localhost:8080/"
        },
        "id": "MpX45gGe0HYE",
        "outputId": "53fb5675-43b8-45d1-d064-6b2058527ec5"
      },
      "execution_count": 140,
      "outputs": [
        {
          "output_type": "stream",
          "name": "stdout",
          "text": [
            "Mean of Row 1 is 4.666666666666667\n",
            "Mean of Row 2 is 5.0\n",
            "Mean of Row 3 is 2.0\n",
            "Mean of column 1 is 5.666666666666667\n",
            "Mean of column 2 is 2.6666666666666665\n",
            "Mean of column 3 is 3.3333333333333335\n"
          ]
        }
      ]
    },
    {
      "cell_type": "code",
      "source": [
        "# Calculate the average, variance and standard deviation in Python using NumPy\n",
        "\n",
        "list = [2, 3, 10, 6, 8, 14, 2, 1, 4]\n",
        "\n",
        "print(\"Average: \", np.average(list))\n",
        "print(\"Variance: \", np.var(list))\n",
        "print(\"Standard Deviation\", np.std(list))"
      ],
      "metadata": {
        "colab": {
          "base_uri": "https://localhost:8080/"
        },
        "id": "UcXOiBeo0JkC",
        "outputId": "3ca5b2d1-c4cd-4308-b9e6-b0ed6290db42"
      },
      "execution_count": 141,
      "outputs": [
        {
          "output_type": "stream",
          "name": "stdout",
          "text": [
            "Average:  5.555555555555555\n",
            "Variance:  16.913580246913583\n",
            "Standard Deviation 4.1126123385159445\n"
          ]
        }
      ]
    },
    {
      "cell_type": "code",
      "source": [
        "# Describe a NumPy Array in Python\n",
        "\n",
        "arr = np.array([[2, 4, 8, 16, 32, 64]])\n",
        "\n",
        "# measures of central tendency\n",
        "mean = np.mean(arr)\n",
        "median = np.median(arr)\n",
        " \n",
        "# measures of dispersion\n",
        "min = np.amin(arr)\n",
        "max = np.amax(arr)\n",
        "range = np.ptp(arr)\n",
        "variance = np.var(arr)\n",
        "sd = np.std(arr)\n",
        " \n",
        "print(\"Descriptive analysis\")\n",
        "print(\"Array =\", arr)\n",
        "print(\"Measures of Central Tendency\")\n",
        "print(\"Mean =\", mean)\n",
        "print(\"Median =\", median)\n",
        "print(\"Measures of Dispersion\")\n",
        "print(\"Minimum =\", min)\n",
        "print(\"Maximum =\", max)\n",
        "print(\"Range =\", range)\n",
        "print(\"Variance =\", variance)\n",
        "print(\"Standard Deviation =\", sd)"
      ],
      "metadata": {
        "colab": {
          "base_uri": "https://localhost:8080/"
        },
        "id": "Ov-JqwbJ0LGN",
        "outputId": "9e434acf-1c63-464b-93ee-28eaf0df9d31"
      },
      "execution_count": 142,
      "outputs": [
        {
          "output_type": "stream",
          "name": "stdout",
          "text": [
            "Descriptive analysis\n",
            "Array = [[ 2  4  8 16 32 64]]\n",
            "Measures of Central Tendency\n",
            "Mean = 21.0\n",
            "Median = 12.0\n",
            "Measures of Dispersion\n",
            "Minimum = 2\n",
            "Maximum = 64\n",
            "Range = 62\n",
            "Variance = 469.0\n",
            "Standard Deviation = 21.656407827707714\n"
          ]
        }
      ]
    },
    {
      "cell_type": "markdown",
      "source": [
        "# Questions on Polynomial"
      ],
      "metadata": {
        "id": "Q7d6K0KY0NAE"
      }
    },
    {
      "cell_type": "code",
      "source": [
        "# Define a polynomial function\n",
        "\n",
        "# Constructing polynomial\n",
        "p1 = np.poly1d([1, 4])\n",
        "p2 = np.poly1d([4, 2, 5, 8])\n",
        " \n",
        "print (\"P1 : \", p1)\n",
        "print (\"\\n p2 : \\n\", p2)\n",
        " \n",
        "# Solve for x = 3\n",
        "print (\"\\np1 at x = 3 : \", p1(3))\n",
        "print (\"p2 at x = 3 : \", p2(3))\n",
        " \n",
        "# Finding Coefficients\n",
        "print (\"\\nCoefficients of P1 : \", p1.c)\n",
        "print (\"Coefficients of P2 : \", p2.coeffs)\n",
        "\n",
        "# Finding Order\n",
        "print (\"\\nOrder / Degree of P1 : \", p1.o)\n",
        "print (\"Order / Degree of P2 : \", p2.order)"
      ],
      "metadata": {
        "colab": {
          "base_uri": "https://localhost:8080/"
        },
        "id": "Z7Xk8xuW0SUo",
        "outputId": "78c98270-d61b-46b9-a5b7-396c8ee5009f"
      },
      "execution_count": 125,
      "outputs": [
        {
          "output_type": "stream",
          "name": "stdout",
          "text": [
            "P1 :   \n",
            "1 x + 4\n",
            "\n",
            " p2 : \n",
            "    3     2\n",
            "4 x + 2 x + 5 x + 8\n",
            "\n",
            "p1 at x = 3 :  7\n",
            "p2 at x = 3 :  149\n",
            "\n",
            "Coefficients of P1 :  [1 4]\n",
            "Coefficients of P2 :  [4 2 5 8]\n",
            "\n",
            "Order / Degree of P1 :  1\n",
            "Order / Degree of P2 :  3\n"
          ]
        }
      ]
    },
    {
      "cell_type": "code",
      "source": [
        "# How to add one polynomial to another using NumPy in Python?\n",
        "\n",
        "# p(x) = 6(x**2) + (-2)x + 8\n",
        "px = (6,-2,8)\n",
        "\n",
        "# q(x) = 2(x**2) + (3)x + 2\n",
        "qx = (2,3,2)\n",
        "\n",
        "# add the polynomials\n",
        "rx = np.polynomial.polynomial.polyadd(px,qx)\n",
        "\n",
        "# print the resultant polynomial\n",
        "print(rx)"
      ],
      "metadata": {
        "colab": {
          "base_uri": "https://localhost:8080/"
        },
        "id": "-Oo23sen0WvZ",
        "outputId": "119cd310-f02f-4d52-9b71-3b4392a58b3d"
      },
      "execution_count": 126,
      "outputs": [
        {
          "output_type": "stream",
          "name": "stdout",
          "text": [
            "[ 8.  1. 10.]\n"
          ]
        }
      ]
    },
    {
      "cell_type": "code",
      "source": [
        "# How to subtract one polynomial to another using NumPy in Python?\n",
        "\n",
        "# p(x) = 6(x**2) + (-2)x + 8\n",
        "px = (6,-2,8)\n",
        "\n",
        "# q(x) = 2(x**2) + (3)x + 2\n",
        "qx = (2,3,2)\n",
        "\n",
        "# add the polynomials\n",
        "rx = np.polynomial.polynomial.polysub(px,qx)\n",
        "\n",
        "# print the resultant polynomial\n",
        "print(rx)"
      ],
      "metadata": {
        "colab": {
          "base_uri": "https://localhost:8080/"
        },
        "id": "IZzs7cpI0alx",
        "outputId": "a9362cb6-5b21-459f-9b24-469547db0c47"
      },
      "execution_count": 127,
      "outputs": [
        {
          "output_type": "stream",
          "name": "stdout",
          "text": [
            "[ 4. -5.  6.]\n"
          ]
        }
      ]
    },
    {
      "cell_type": "code",
      "source": [
        "# How to multiply a polynomial to another using NumPy in Python?\n",
        "\n",
        "# p(x) = 6(x**2) + (-2)x + 8\n",
        "px = (6,-2,8)\n",
        "\n",
        "# q(x) = 2(x**2) + (3)x + 2\n",
        "qx = (2,3,2)\n",
        "\n",
        "# add the polynomials\n",
        "rx = np.polynomial.polynomial.polymul(px,qx)\n",
        "\n",
        "# print the resultant polynomial\n",
        "print(rx)"
      ],
      "metadata": {
        "colab": {
          "base_uri": "https://localhost:8080/"
        },
        "id": "sj72DhOz0f-R",
        "outputId": "aa007659-0731-45c0-e71b-43d069ae1eaf"
      },
      "execution_count": 128,
      "outputs": [
        {
          "output_type": "stream",
          "name": "stdout",
          "text": [
            "[12. 14. 22. 20. 16.]\n"
          ]
        }
      ]
    },
    {
      "cell_type": "code",
      "source": [
        "# How to divide a polynomial to another using NumPy in Python?\n",
        "\n",
        "# p(x) = 6(x**2) + (-2)x + 8\n",
        "px = (6,-2,5)\n",
        "\n",
        "# q(x) = 2(x**2) + (3)x + 2\n",
        "gx = (2,3,2)\n",
        "\n",
        "# add the polynomials\n",
        "qx, rx = np.polynomial.polynomial.polydiv(px, gx)\n",
        "\n",
        "# print the resultant polynomial\n",
        "print(qx)\n",
        "print(rx)"
      ],
      "metadata": {
        "colab": {
          "base_uri": "https://localhost:8080/"
        },
        "id": "KcSoD5Ao0hud",
        "outputId": "3ce9111e-f338-492b-b958-3765eaa72e5c"
      },
      "execution_count": 129,
      "outputs": [
        {
          "output_type": "stream",
          "name": "stdout",
          "text": [
            "[2.5]\n",
            "[ 1.  -9.5]\n"
          ]
        }
      ]
    },
    {
      "cell_type": "code",
      "source": [
        "# Find the roots of the polynomials using NumPy\n",
        "\n",
        "p1 = np.poly1d([1, 4])\n",
        "p2 = np.poly1d([4, 2, 5])\n",
        "\n",
        "# Finding Roots\n",
        "print (\"\\nRoots of P1 : \", p1.r)\n",
        "print (\"Roots of P2 : \", p2.r)"
      ],
      "metadata": {
        "colab": {
          "base_uri": "https://localhost:8080/"
        },
        "id": "-D7mYDNy0jbf",
        "outputId": "cad667e4-96ca-4893-d474-a7e5e6f9607a"
      },
      "execution_count": 130,
      "outputs": [
        {
          "output_type": "stream",
          "name": "stdout",
          "text": [
            "\n",
            "Roots of P1 :  [-4.]\n",
            "Roots of P2 :  [-0.25+1.08972474j -0.25-1.08972474j]\n"
          ]
        }
      ]
    },
    {
      "cell_type": "code",
      "source": [
        "# Evaluate a 2-D polynomial series on the Cartesian product\n",
        "\n",
        "from numpy.polynomial.polynomial import polygrid2d\n",
        "\n",
        "# Input polynomial series coefficients\n",
        "c = np.array([[3, 3, 8], [4, 1, 2]])\n",
        "\n",
        "# using np.polygrid2d() method \n",
        "ans = polygrid2d(7, 8, c)\n",
        "  \n",
        "print(ans)"
      ],
      "metadata": {
        "colab": {
          "base_uri": "https://localhost:8080/"
        },
        "id": "pweEnLQo0k-n",
        "outputId": "dc2a0437-7d51-4acb-f18a-41148adf6203"
      },
      "execution_count": 131,
      "outputs": [
        {
          "output_type": "stream",
          "name": "stdout",
          "text": [
            "1519.0\n"
          ]
        }
      ]
    },
    {
      "cell_type": "code",
      "source": [
        "# Evaluate a 3-D polynomial series on the Cartesian product\n",
        "\n",
        "from numpy.polynomial.polynomial import polygrid3d\n",
        "\n",
        "# Input polynomial series coefficients\n",
        "c = np.array([[3, 3, 8], [4, 1, 2], [6, 4, 5]])\n",
        "\n",
        "# using np.polygrid3d() method \n",
        "ans = polygrid3d([7, 8], [9, 10], [3, 2], c)\n",
        "# ans = polygrid3d(4, 10, 12, c)\n",
        "  \n",
        "print(ans)"
      ],
      "metadata": {
        "colab": {
          "base_uri": "https://localhost:8080/"
        },
        "id": "liQ3KKiq0mN-",
        "outputId": "69e4bd59-c88a-4833-eb1e-a0426a6eefb7"
      },
      "execution_count": 132,
      "outputs": [
        {
          "output_type": "stream",
          "name": "stdout",
          "text": [
            "[[115864.  85178.]\n",
            " [141552. 104063.]]\n"
          ]
        }
      ]
    },
    {
      "cell_type": "markdown",
      "source": [
        "# Questions on NumPy Strings"
      ],
      "metadata": {
        "id": "tCWj7lrm0nlB"
      }
    },
    {
      "cell_type": "code",
      "source": [
        "# Repeat all the elements of a NumPy array of strings\n",
        "\n",
        "# created array of strings\n",
        "arr = np.array(['Rafael', 'Lucas', 'Paes', \n",
        "                'Willy', 'Bruno'], dtype = str)\n",
        "print(\"Original Array :\")\n",
        "print(arr)\n",
        "  \n",
        "# repeating the characters 3 times\n",
        "new_array = np.char.multiply(arr, 3)\n",
        "print(\"\\nNew array :\")\n",
        "print(new_array)"
      ],
      "metadata": {
        "colab": {
          "base_uri": "https://localhost:8080/"
        },
        "id": "vwKE1Kb00oiV",
        "outputId": "5f438155-05f7-4a1d-fa1a-a58cf8f99c21"
      },
      "execution_count": 82,
      "outputs": [
        {
          "output_type": "stream",
          "name": "stdout",
          "text": [
            "Original Array :\n",
            "['Rafael' 'Lucas' 'Paes' 'Willy' 'Bruno']\n",
            "\n",
            "New array :\n",
            "['RafaelRafaelRafael' 'LucasLucasLucas' 'PaesPaesPaes' 'WillyWillyWilly'\n",
            " 'BrunoBrunoBruno']\n"
          ]
        }
      ]
    },
    {
      "cell_type": "code",
      "source": [
        "# How to split the element of a given NumPy array with spaces?\n",
        "\n",
        "arr = np.array(['Laravel React Vue Angular Express'], dtype=str)\n",
        "print(arr)\n",
        "  \n",
        "# Split the element of the said array with spaces\n",
        "sparr = np.char.split(arr)\n",
        "print(sparr)"
      ],
      "metadata": {
        "colab": {
          "base_uri": "https://localhost:8080/"
        },
        "id": "dW4tp_su0s6F",
        "outputId": "01580215-e30c-4035-a717-3129c69930c6"
      },
      "execution_count": 83,
      "outputs": [
        {
          "output_type": "stream",
          "name": "stdout",
          "text": [
            "['Laravel React Vue Angular Express']\n",
            "[list(['Laravel', 'React', 'Vue', 'Angular', 'Express'])]\n"
          ]
        }
      ]
    },
    {
      "cell_type": "code",
      "source": [
        "# How to insert a space between characters of all the elements of a given NumPy array?\n",
        "\n",
        "x = np.array([\"lorem\", \"ipsum\", \"dolor\"], dtype=str)\n",
        "\n",
        "print(\"Printing the Original Array:\")\n",
        "print(x)\n",
        "  \n",
        "# inserting space using np.char.join()\n",
        "r = np.char.join(\" \", x)\n",
        "print(\"Printing the array after inserting space\\\n",
        "between the elements\")\n",
        "print(r)"
      ],
      "metadata": {
        "colab": {
          "base_uri": "https://localhost:8080/"
        },
        "id": "9Z_a5X8g0uJs",
        "outputId": "bb7e19e9-c0b0-4df5-b94f-2383e7515f5f"
      },
      "execution_count": 84,
      "outputs": [
        {
          "output_type": "stream",
          "name": "stdout",
          "text": [
            "Printing the Original Array:\n",
            "['lorem' 'ipsum' 'dolor']\n",
            "Printing the array after inserting spacebetween the elements\n",
            "['l o r e m' 'i p s u m' 'd o l o r']\n"
          ]
        }
      ]
    },
    {
      "cell_type": "code",
      "source": [
        "# Find the length of each string element in the Numpy array\n",
        "\n",
        "arr = np.array(['Brasil', 'Colombia', 'Uruguai', 'Argentina'])\n",
        "\n",
        "# Use vectorize function of numpy\n",
        "length_checker = np.vectorize(len)\n",
        "  \n",
        "# Find the length of each element\n",
        "arr_len = length_checker(arr)\n",
        "  \n",
        "# Print the length of each element\n",
        "print(arr_len)"
      ],
      "metadata": {
        "colab": {
          "base_uri": "https://localhost:8080/"
        },
        "id": "fv33DFa90veX",
        "outputId": "73ee6d1e-9fa3-4a98-ae00-8520bf0152c3"
      },
      "execution_count": 85,
      "outputs": [
        {
          "output_type": "stream",
          "name": "stdout",
          "text": [
            "[6 8 7 9]\n"
          ]
        }
      ]
    },
    {
      "cell_type": "code",
      "source": [
        "# Swap the case of an array of string\n",
        "\n",
        "arr = np.array(['BraSil', 'ColomBia', 'UruGuai', 'ArGenTina'])\n",
        "\n",
        "out_arr = np.char.swapcase(arr)\n",
        "print (\"output swapcasecased array :\", out_arr)"
      ],
      "metadata": {
        "colab": {
          "base_uri": "https://localhost:8080/"
        },
        "id": "L9urFBSg0xZ0",
        "outputId": "181e1eaa-8893-4948-9500-b233fbd4b400"
      },
      "execution_count": 86,
      "outputs": [
        {
          "output_type": "stream",
          "name": "stdout",
          "text": [
            "output swapcasecased array : ['bRAsIL' 'cOLOMbIA' 'uRUgUAI' 'aRgENtINA']\n"
          ]
        }
      ]
    },
    {
      "cell_type": "code",
      "source": [
        "# Change the case to uppercase of elements of an array\n",
        "\n",
        "arr = np.array(['BraSil', 'ColomBia', 'UruGuai', 'ArGenTina'])\n",
        "\n",
        "out_arr = np.char.upper(arr)\n",
        "print (\"output uppercase array :\", out_arr)"
      ],
      "metadata": {
        "colab": {
          "base_uri": "https://localhost:8080/"
        },
        "id": "uK3q5Ryf0zF1",
        "outputId": "463d10a8-5380-465e-c22e-2a49380b0de3"
      },
      "execution_count": 87,
      "outputs": [
        {
          "output_type": "stream",
          "name": "stdout",
          "text": [
            "output uppercase array : ['BRASIL' 'COLOMBIA' 'URUGUAI' 'ARGENTINA']\n"
          ]
        }
      ]
    },
    {
      "cell_type": "code",
      "source": [
        "# Change the case to lowercase of elements of an array\n",
        "\n",
        "arr = np.array(['BraSil', 'ColomBia', 'UruGuai', 'ArGenTina'])\n",
        "\n",
        "out_arr = np.char.lower(arr)\n",
        "print (\"output lowercase array :\", out_arr)"
      ],
      "metadata": {
        "colab": {
          "base_uri": "https://localhost:8080/"
        },
        "id": "4fvceHfj00v6",
        "outputId": "62f59704-393b-408d-85a0-8496bbd02b85"
      },
      "execution_count": 88,
      "outputs": [
        {
          "output_type": "stream",
          "name": "stdout",
          "text": [
            "output lowercase array : ['brasil' 'colombia' 'uruguai' 'argentina']\n"
          ]
        }
      ]
    },
    {
      "cell_type": "code",
      "source": [
        "# Join String by a seperator\n",
        "\n",
        "in_arr = np.array(['Python', 'Javascript', 'PHP'])\n",
        "print (\"Input original array : \", in_arr) \n",
        "  \n",
        "# creating the separator\n",
        "sep = np.array('-')\n",
        "  \n",
        "out_arr = np.core.defchararray.join(sep, in_arr)\n",
        "print (\"Output joined array: \", out_arr)"
      ],
      "metadata": {
        "colab": {
          "base_uri": "https://localhost:8080/"
        },
        "id": "8yh7h2Sa02Mt",
        "outputId": "db79d36a-5c65-48db-8c20-4f205ce72a54"
      },
      "execution_count": 89,
      "outputs": [
        {
          "output_type": "stream",
          "name": "stdout",
          "text": [
            "Input original array :  ['Python' 'Javascript' 'PHP']\n",
            "Output joined array:  ['P-y-t-h-o-n' 'J-a-v-a-s-c-r-i-p-t' 'P-H-P']\n"
          ]
        }
      ]
    },
    {
      "cell_type": "code",
      "source": [
        "# Check if two same shaped string arrays one by one\n",
        "\n",
        "arr1 = np.array(['Bella', 'Tom', 'John', 'Kate', 'Amy', 'Brad'])\n",
        "arr2 = np.array(['Cio', 'Tom', 'Cena', 'Kate', 'Adams', 'brad'])\n",
        "\n",
        "print(np.char.equal(arr1,arr2))"
      ],
      "metadata": {
        "colab": {
          "base_uri": "https://localhost:8080/"
        },
        "id": "9YUkpTRt03h8",
        "outputId": "897429fa-5784-4318-ef68-6fbe8dbfdc9b"
      },
      "execution_count": 90,
      "outputs": [
        {
          "output_type": "stream",
          "name": "stdout",
          "text": [
            "[False  True False  True False False]\n"
          ]
        }
      ]
    },
    {
      "cell_type": "code",
      "source": [
        "# Count the number of substrings in an array\n",
        "\n",
        "arr = np.array(['AaAaa', 'Aaa', 'BcAabb'])\n",
        "print (\"Input array : \", arr)\n",
        "  \n",
        "# output arrays \n",
        "out_arr = np.char.count(arr, sub ='A')\n",
        "print (\"Output array: \", out_arr)"
      ],
      "metadata": {
        "colab": {
          "base_uri": "https://localhost:8080/"
        },
        "id": "vaVybfhS05ES",
        "outputId": "9ca9f83d-6e57-4a80-f64b-04ed15a5ee3b"
      },
      "execution_count": 91,
      "outputs": [
        {
          "output_type": "stream",
          "name": "stdout",
          "text": [
            "Input array :  ['AaAaa' 'Aaa' 'BcAabb']\n",
            "Output array:  [2 1 1]\n"
          ]
        }
      ]
    },
    {
      "cell_type": "code",
      "source": [
        "# Find the lowest index of the substring in an array\n",
        "\n",
        "arr = np.array(['KATIE', 'ATM', 'KATE'])\n",
        "\n",
        "print(\"\\nResult (index() method)...\\n\",np.char.index(arr, 'AT'))"
      ],
      "metadata": {
        "colab": {
          "base_uri": "https://localhost:8080/"
        },
        "id": "5B5RQ2tF06mF",
        "outputId": "1d1344dc-e9f0-4aa1-8277-cb3e48c7e008"
      },
      "execution_count": 92,
      "outputs": [
        {
          "output_type": "stream",
          "name": "stdout",
          "text": [
            "\n",
            "Result (index() method)...\n",
            " [1 0 1]\n"
          ]
        }
      ]
    },
    {
      "cell_type": "code",
      "source": [
        "# Get the boolean array when values end with a particular character\n",
        "\n",
        "arr = np.array(['Rafael', 'Lucas', 'Paes', 'Willy', 'Bruno'])\n",
        "\n",
        "print(np.char.endswith(arr, 's'))"
      ],
      "metadata": {
        "colab": {
          "base_uri": "https://localhost:8080/"
        },
        "id": "qxOK9NoR08Fj",
        "outputId": "2f91956a-c749-400f-e4b9-588b44c2271f"
      },
      "execution_count": 93,
      "outputs": [
        {
          "output_type": "stream",
          "name": "stdout",
          "text": [
            "[False  True  True False False]\n"
          ]
        }
      ]
    },
    {
      "cell_type": "code",
      "source": [
        "# Different ways to convert a Python dictionary to a NumPy array\n",
        "\n",
        "# Creating a Dictionary\n",
        "dict = {1: 'React',\n",
        "        2: 'Vuejs',\n",
        "        3: 'Angular'}\n",
        "  \n",
        "# to return a group of the key-value\n",
        "# pairs in the dictionary\n",
        "result = dict.items()\n",
        "  \n",
        "# Convert object to a list\n",
        "data = list(result)\n",
        "  \n",
        "# Convert list to an array\n",
        "arr = np.array(data)\n",
        "print(arr)"
      ],
      "metadata": {
        "colab": {
          "base_uri": "https://localhost:8080/"
        },
        "id": "NsCZrgTS09-K",
        "outputId": "f09f8850-201a-46c8-f1a3-40ba06dea53c"
      },
      "execution_count": 94,
      "outputs": [
        {
          "output_type": "stream",
          "name": "stdout",
          "text": [
            "[['1' 'React']\n",
            " ['2' 'Vuejs']\n",
            " ['3' 'Angular']]\n"
          ]
        }
      ]
    },
    {
      "cell_type": "code",
      "source": [
        "# How to convert a list and tuple into NumPy arrays?\n",
        "\n",
        "# list\n",
        "list1 = [3, 4, 9, 7]\n",
        "print(type(list1))\n",
        "print(list1, \"\\n\")\n",
        "  \n",
        "# conversion\n",
        "arr1 = np.asarray(list1)\n",
        "print(type(arr1))\n",
        "print(arr1, \"\\n\")\n",
        "  \n",
        "# tuple\n",
        "tuple1 = ([1, 3, 6], [5, 2, 3])\n",
        "print(type(tuple1))\n",
        "print(tuple1, \"\\n\")\n",
        "\n",
        "# conversion\n",
        "arr2 = np.asarray(tuple1)\n",
        "print(type(arr2))\n",
        "print(arr2)"
      ],
      "metadata": {
        "colab": {
          "base_uri": "https://localhost:8080/"
        },
        "id": "n6_DMGc61AQC",
        "outputId": "f24ca240-d150-4278-ee7e-88aeb3de2d31"
      },
      "execution_count": 95,
      "outputs": [
        {
          "output_type": "stream",
          "name": "stdout",
          "text": [
            "<class 'list'>\n",
            "[3, 4, 9, 7] \n",
            "\n",
            "<class 'numpy.ndarray'>\n",
            "[3 4 9 7] \n",
            "\n",
            "<class 'tuple'>\n",
            "([1, 3, 6], [5, 2, 3]) \n",
            "\n",
            "<class 'numpy.ndarray'>\n",
            "[[1 3 6]\n",
            " [5 2 3]]\n"
          ]
        }
      ]
    },
    {
      "cell_type": "code",
      "source": [
        "# Ways to convert array of strings to array of floats\n",
        "\n",
        "arr = np.array([\"1.3\", \"2.1\", \"4.7\", \"6.3\"])\n",
        "print (\"array of strings: \", str(arr))\n",
        " \n",
        "# converting to array of floats\n",
        "# using np.astype\n",
        "res = arr.astype(float)\n",
        "print (\"array of floats: \", str(res))"
      ],
      "metadata": {
        "colab": {
          "base_uri": "https://localhost:8080/"
        },
        "id": "gJr7ETRm1Cp1",
        "outputId": "3a192983-4ab2-4bb3-a26b-cef5ba08b511"
      },
      "execution_count": 96,
      "outputs": [
        {
          "output_type": "stream",
          "name": "stdout",
          "text": [
            "array of strings:  ['1.3' '2.1' '4.7' '6.3']\n",
            "array of floats:  [1.3 2.1 4.7 6.3]\n"
          ]
        }
      ]
    },
    {
      "cell_type": "code",
      "source": [
        "# Convert a NumPy array into a csv file\n",
        "\n",
        "arr = np.arange(12).reshape(4,3)\n",
        "print(arr)\n",
        "  \n",
        "# convert array into dataframe\n",
        "df = pd.DataFrame(arr)\n",
        "  \n",
        "# save the dataframe as a csv file\n",
        "df.to_csv(\"result.csv\")"
      ],
      "metadata": {
        "colab": {
          "base_uri": "https://localhost:8080/"
        },
        "id": "NxatmyxY1Efb",
        "outputId": "f9820a61-1da8-40c1-f13e-4224b93a625e"
      },
      "execution_count": 194,
      "outputs": [
        {
          "output_type": "stream",
          "name": "stdout",
          "text": [
            "[[ 0  1  2]\n",
            " [ 3  4  5]\n",
            " [ 6  7  8]\n",
            " [ 9 10 11]]\n"
          ]
        }
      ]
    },
    {
      "cell_type": "code",
      "source": [
        "# How to Convert an image to NumPy array and save it to CSV file using Python?\n",
        "\n",
        "from PIL import Image\n",
        "\n",
        "# https://images.app.goo.gl/iSjLL7bM3zrq6RHU6\n",
        "# read an image\n",
        "img = Image.open('image.jpg')\n",
        "\n",
        "# convert image object into array\n",
        "imageToMatrice = np.asarray(img)\n",
        "\n",
        "# printing shape of image\n",
        "print(imageToMatrice.shape)"
      ],
      "metadata": {
        "colab": {
          "base_uri": "https://localhost:8080/"
        },
        "id": "5suPTDnY1GsN",
        "outputId": "04ece8f6-27f7-44b6-8e35-e5d30e18273c"
      },
      "execution_count": 99,
      "outputs": [
        {
          "output_type": "stream",
          "name": "stdout",
          "text": [
            "(1536, 2048, 3)\n"
          ]
        }
      ]
    },
    {
      "cell_type": "code",
      "source": [
        "# How to save a NumPy array to a text file?\n",
        "\n",
        "arr = np.arange(12).reshape(4,3)\n",
        "print(arr)\n",
        " \n",
        "# Saving the array in a text file\n",
        "file = open(\"file.txt\", \"w+\")\n",
        "content = str(arr)\n",
        "file.write(content)\n",
        "file.close()\n",
        " \n",
        "# Displaying the contents of the text file\n",
        "file = open(\"file.txt\", \"r\")\n",
        "content = file.read()\n",
        " \n",
        "print(\"\\nContent in file1.txt:\\n\", content)\n",
        "file.close()"
      ],
      "metadata": {
        "colab": {
          "base_uri": "https://localhost:8080/"
        },
        "id": "6NBJMoZD1IPS",
        "outputId": "2c56fc04-f1b4-41af-bf7a-92c05f3c3a12"
      },
      "execution_count": 100,
      "outputs": [
        {
          "output_type": "stream",
          "name": "stdout",
          "text": [
            "[[ 0  1  2]\n",
            " [ 3  4  5]\n",
            " [ 6  7  8]\n",
            " [ 9 10 11]]\n",
            "\n",
            "Content in file1.txt:\n",
            " [[ 0  1  2]\n",
            " [ 3  4  5]\n",
            " [ 6  7  8]\n",
            " [ 9 10 11]]\n"
          ]
        }
      ]
    },
    {
      "cell_type": "code",
      "source": [
        "# Load data from a text file\n",
        "\n",
        "File_data = np.loadtxt(\"data.txt\", dtype=int)\n",
        "print(File_data)"
      ],
      "metadata": {
        "colab": {
          "base_uri": "https://localhost:8080/"
        },
        "id": "uVX7a4s11Jvu",
        "outputId": "9e76819a-ffc3-47d9-cf78-80d9f76b6764"
      },
      "execution_count": 192,
      "outputs": [
        {
          "output_type": "stream",
          "name": "stdout",
          "text": [
            "[0 1 2 3 4 5]\n"
          ]
        }
      ]
    },
    {
      "cell_type": "code",
      "source": [
        "# Plot line graph from NumPy array\n",
        " \n",
        "x = np.arange(12)\n",
        "y = x * x\n",
        " \n",
        "# plotting\n",
        "plt.plot(x, y, color =\"blue\")\n",
        "plt.show()"
      ],
      "metadata": {
        "colab": {
          "base_uri": "https://localhost:8080/",
          "height": 265
        },
        "id": "dNaK5SV41LKv",
        "outputId": "fb533c8f-e28d-45d0-9b81-24f8f877f15a"
      },
      "execution_count": 105,
      "outputs": [
        {
          "output_type": "display_data",
          "data": {
            "text/plain": [
              "<Figure size 432x288 with 1 Axes>"
            ],
            "image/png": "[encoded data removed]"
          },
          "metadata": {
            "needs_background": "light"
          }
        }
      ]
    },
    {
      "cell_type": "code",
      "source": [
        "# Create Histogram using NumPy\n",
        " \n",
        "# Creating dataset\n",
        "a = np.random.randint(100, size =(50))\n",
        " \n",
        "# Creating plot\n",
        "fig = plt.figure(figsize =(10, 7))\n",
        " \n",
        "plt.hist(a, bins = [0, 10, 20, 30,\n",
        "                    40, 50, 60, 70,\n",
        "                    80, 90, 100])\n",
        "plt.title(\"Numpy Histogram\")\n",
        "plt.show()"
      ],
      "metadata": {
        "colab": {
          "base_uri": "https://localhost:8080/",
          "height": 444
        },
        "id": "uVDgZuiL1NTv",
        "outputId": "e935d1d1-7b75-4938-8271-d48062912954"
      },
      "execution_count": 104,
      "outputs": [
        {
          "output_type": "display_data",
          "data": {
            "text/plain": [
              "<Figure size 720x504 with 1 Axes>"
            ],
            "image/png": "[encoded data removed]"
          },
          "metadata": {
            "needs_background": "light"
          }
        }
      ]
    }
  ]
}